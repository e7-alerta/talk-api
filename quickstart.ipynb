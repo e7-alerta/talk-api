{
 "cells": [
  {
   "cell_type": "code",
   "execution_count": 101,
   "metadata": {
    "collapsed": true,
    "ExecuteTime": {
     "end_time": "2023-12-22T11:16:48.335333269Z",
     "start_time": "2023-12-22T11:16:47.374722331Z"
    }
   },
   "outputs": [
    {
     "name": "stdout",
     "output_type": "stream",
     "text": [
      "Requirement already satisfied: requests in ./lib/python3.10/site-packages (2.31.0)\r\n",
      "Requirement already satisfied: charset-normalizer<4,>=2 in ./lib/python3.10/site-packages (from requests) (3.3.2)\r\n",
      "Requirement already satisfied: idna<4,>=2.5 in ./lib/python3.10/site-packages (from requests) (3.6)\r\n",
      "Requirement already satisfied: urllib3<3,>=1.21.1 in ./lib/python3.10/site-packages (from requests) (2.1.0)\r\n",
      "Requirement already satisfied: certifi>=2017.4.17 in ./lib/python3.10/site-packages (from requests) (2023.11.17)\r\n",
      "\r\n",
      "\u001B[1m[\u001B[0m\u001B[34;49mnotice\u001B[0m\u001B[1;39;49m]\u001B[0m\u001B[39;49m A new release of pip is available: \u001B[0m\u001B[31;49m23.3.1\u001B[0m\u001B[39;49m -> \u001B[0m\u001B[32;49m23.3.2\u001B[0m\r\n",
      "\u001B[1m[\u001B[0m\u001B[34;49mnotice\u001B[0m\u001B[1;39;49m]\u001B[0m\u001B[39;49m To update, run: \u001B[0m\u001B[32;49mpip install --upgrade pip\u001B[0m\r\n"
     ]
    }
   ],
   "source": [
    "!pip install requests\n",
    "\n"
   ]
  },
  {
   "cell_type": "code",
   "execution_count": 102,
   "outputs": [],
   "source": [
    "from pydantic import BaseModel"
   ],
   "metadata": {
    "collapsed": false,
    "ExecuteTime": {
     "end_time": "2023-12-22T11:16:48.439171462Z",
     "start_time": "2023-12-22T11:16:48.428645894Z"
    }
   }
  },
  {
   "cell_type": "code",
   "execution_count": 103,
   "outputs": [],
   "source": [
    "import requests\n",
    "from requests.exceptions import HTTPError, Timeout, ConnectionError\n"
   ],
   "metadata": {
    "collapsed": false,
    "ExecuteTime": {
     "end_time": "2023-12-22T11:16:48.985296082Z",
     "start_time": "2023-12-22T11:16:48.960885318Z"
    }
   }
  },
  {
   "cell_type": "code",
   "execution_count": 103,
   "outputs": [],
   "source": [],
   "metadata": {
    "collapsed": false,
    "ExecuteTime": {
     "end_time": "2023-12-22T11:16:50.169192602Z",
     "start_time": "2023-12-22T11:16:50.158976924Z"
    }
   }
  },
  {
   "cell_type": "code",
   "execution_count": 104,
   "outputs": [],
   "source": [
    "session = requests.Session()"
   ],
   "metadata": {
    "collapsed": false,
    "ExecuteTime": {
     "end_time": "2023-12-22T11:16:50.441281024Z",
     "start_time": "2023-12-22T11:16:50.431344516Z"
    }
   }
  },
  {
   "cell_type": "code",
   "execution_count": 105,
   "outputs": [],
   "source": [
    "session.headers.update({\n",
    "    'Accepts': 'application/json,text/plan,*/*',\n",
    "    'Content-Type': 'application/json',\n",
    "    'uid': 'e7canasta@gmail.com',\n",
    "    'token/type': 'Bearer',\n",
    "    'sec-fetch-mode': 'cors'\n",
    "})"
   ],
   "metadata": {
    "collapsed": false,
    "ExecuteTime": {
     "end_time": "2023-12-22T11:16:52.450844442Z",
     "start_time": "2023-12-22T11:16:52.440617116Z"
    }
   }
  },
  {
   "cell_type": "code",
   "execution_count": 119,
   "outputs": [],
   "source": [
    "session.headers.update({\n",
    "    'access-token': 'cy7mNSLUH6uyJ5wEAcrrDe5e',\n",
    "    'client': 'WWYCN43iU6-UHFM1yEtq2w'\n",
    "})"
   ],
   "metadata": {
    "collapsed": false,
    "ExecuteTime": {
     "end_time": "2023-12-22T11:35:04.219980746Z",
     "start_time": "2023-12-22T11:35:04.205481504Z"
    }
   }
  },
  {
   "cell_type": "code",
   "execution_count": 120,
   "outputs": [],
   "source": [
    "\n",
    "url = \"http://chat.vecinos.com.ar/auth/sign_in\"\n"
   ],
   "metadata": {
    "collapsed": false,
    "ExecuteTime": {
     "end_time": "2023-12-22T11:35:05.122736054Z",
     "start_time": "2023-12-22T11:35:05.113090950Z"
    }
   }
  },
  {
   "cell_type": "code",
   "execution_count": 141,
   "outputs": [],
   "source": [
    "\n",
    "url = \"http://chat.vecinos.com.ar/auth/sign_in\"\n",
    "payload = {\n",
    "    \"email\": \"e7canasta@gmail.com\",\n",
    "    \"password\": \"Matilda@123S\"\n",
    "}\n",
    "\n",
    "response = session.post(url, json=payload)\n"
   ],
   "metadata": {
    "collapsed": false,
    "ExecuteTime": {
     "end_time": "2023-12-22T12:22:50.291481957Z",
     "start_time": "2023-12-22T12:22:49.101044084Z"
    }
   }
  },
  {
   "cell_type": "code",
   "execution_count": 142,
   "outputs": [
    {
     "name": "stdout",
     "output_type": "stream",
     "text": [
      "{\"data\":{\"access_token\":\"cy7mNSLUH6uyJ5wEAcrrDe5e\",\"account_id\":2,\"available_name\":\"Gaby\",\"avatar_url\":\"\",\"confirmed\":true,\"display_name\":\"Gaby\",\"message_signature\":null,\"email\":\"e7canasta@gmail.com\",\"id\":2,\"inviter_id\":null,\"name\":\"Gabriel Simionato\",\"provider\":\"email\",\"pubsub_token\":\"WFi6WEixfmzKZXDBzGmyF426\",\"role\":\"administrator\",\"ui_settings\":{\"rtl_view\":false},\"uid\":\"e7canasta@gmail.com\",\"type\":\"SuperAdmin\",\"accounts\":[{\"id\":2,\"name\":\"e7\",\"status\":\"active\",\"active_at\":\"2023-12-22T11:39:58.585Z\",\"role\":\"administrator\",\"availability\":\"online\",\"availability_status\":\"offline\",\"auto_offline\":true}]}}\n"
     ]
    }
   ],
   "source": [
    "print(response.text)"
   ],
   "metadata": {
    "collapsed": false,
    "ExecuteTime": {
     "end_time": "2023-12-22T12:22:50.292049773Z",
     "start_time": "2023-12-22T12:22:50.291811363Z"
    }
   }
  },
  {
   "cell_type": "code",
   "execution_count": 109,
   "outputs": [
    {
     "data": {
      "text/plain": "{'User-Agent': 'python-requests/2.31.0', 'Accept-Encoding': 'gzip, deflate', 'Accept': '*/*', 'Connection': 'keep-alive', 'Accepts': 'application/json,text/plan,*/*', 'Content-Type': 'application/json', 'uid': 'e7canasta@gmail.com', 'token/type': 'Bearer', 'sec-fetch-mode': 'cors', 'access-token': 'ldLoD4BlDu-R2hHyu5Jm_A', 'client': 'WWYCN43iU6-UHFM1yEtq2w'}"
     },
     "execution_count": 109,
     "metadata": {},
     "output_type": "execute_result"
    }
   ],
   "source": [
    "session.headers"
   ],
   "metadata": {
    "collapsed": false,
    "ExecuteTime": {
     "end_time": "2023-12-22T11:17:04.041415290Z",
     "start_time": "2023-12-22T11:17:04.031154496Z"
    }
   }
  },
  {
   "cell_type": "code",
   "execution_count": 132,
   "outputs": [
    {
     "data": {
      "text/plain": "<RequestsCookieJar[Cookie(version=0, name='user.expires_at', value='eyJfcmFpbHMiOnsibWVzc2FnZSI6IklqSXdNak10TVRJdE1qSlVNVEk2TURjNk5EY3VOelkzV2lJPSIsImV4cCI6bnVsbCwicHVyIjoiY29va2llLnVzZXIuZXhwaXJlc19hdCJ9fQ%3D%3D--4a32a0a1cd1c783c00b4978f9beedc3bd4560904', port=None, port_specified=False, domain='chat.vecinos.com.ar', domain_specified=False, domain_initial_dot=False, path='/', path_specified=True, secure=False, expires=None, discard=True, comment=None, comment_url=None, rest={'SameSite': 'Lax'}, rfc2109=False)]>"
     },
     "execution_count": 132,
     "metadata": {},
     "output_type": "execute_result"
    }
   ],
   "source": [
    "response.cookies"
   ],
   "metadata": {
    "collapsed": false,
    "ExecuteTime": {
     "end_time": "2023-12-22T11:38:51.471025341Z",
     "start_time": "2023-12-22T11:38:51.461758732Z"
    }
   }
  },
  {
   "cell_type": "code",
   "execution_count": 133,
   "outputs": [
    {
     "data": {
      "text/plain": "<RequestsCookieJar[Cookie(version=0, name='user.expires_at', value='eyJfcmFpbHMiOnsibWVzc2FnZSI6IklqSXdNak10TVRJdE1qSlVNVEk2TURjNk5EY3VOelkzV2lJPSIsImV4cCI6bnVsbCwicHVyIjoiY29va2llLnVzZXIuZXhwaXJlc19hdCJ9fQ%3D%3D--4a32a0a1cd1c783c00b4978f9beedc3bd4560904', port=None, port_specified=False, domain='chat.vecinos.com.ar', domain_specified=False, domain_initial_dot=False, path='/', path_specified=True, secure=False, expires=None, discard=True, comment=None, comment_url=None, rest={'SameSite': 'Lax'}, rfc2109=False), Cookie(version=0, name='user.id', value='eyJfcmFpbHMiOnsibWVzc2FnZSI6Ik1nPT0iLCJleHAiOm51bGwsInB1ciI6ImNvb2tpZS51c2VyLmlkIn19--ac0eda3f6c402dc2610b708ccd26722c35881cda', port=None, port_specified=False, domain='chat.vecinos.com.ar', domain_specified=False, domain_initial_dot=False, path='/', path_specified=True, secure=False, expires=None, discard=True, comment=None, comment_url=None, rest={'SameSite': 'Lax'}, rfc2109=False)]>"
     },
     "execution_count": 133,
     "metadata": {},
     "output_type": "execute_result"
    }
   ],
   "source": [
    "session.cookies"
   ],
   "metadata": {
    "collapsed": false,
    "ExecuteTime": {
     "end_time": "2023-12-22T11:38:56.004729414Z",
     "start_time": "2023-12-22T11:38:55.995947833Z"
    }
   }
  },
  {
   "cell_type": "code",
   "execution_count": 134,
   "outputs": [
    {
     "name": "stdout",
     "output_type": "stream",
     "text": [
      "Cookie: user.expires_at, Expira: None\n",
      "Cookie: user.id, Expira: None\n"
     ]
    }
   ],
   "source": [
    "for cookie in session.cookies:\n",
    "    print(f\"Cookie: {cookie.name}, Expira: {cookie.expires}\")\n"
   ],
   "metadata": {
    "collapsed": false,
    "ExecuteTime": {
     "end_time": "2023-12-22T11:38:58.074971340Z",
     "start_time": "2023-12-22T11:38:58.064916562Z"
    }
   }
  },
  {
   "cell_type": "markdown",
   "source": [
    "----\n",
    "### Create a Contact ###"
   ],
   "metadata": {
    "collapsed": false
   }
  },
  {
   "cell_type": "code",
   "execution_count": 137,
   "outputs": [],
   "source": [
    "contact_url = \"http://chat.vecinos.com.ar/api/v1/accounts/2/contacts\""
   ],
   "metadata": {
    "collapsed": false,
    "ExecuteTime": {
     "end_time": "2023-12-22T12:22:25.198768280Z",
     "start_time": "2023-12-22T12:22:25.158484854Z"
    }
   }
  },
  {
   "cell_type": "code",
   "execution_count": 143,
   "outputs": [],
   "source": [
    "contact_payload =  {\n",
    "\t\"name\": \"Yamila\",\n",
    "\t\"email\": \"\",\n",
    "\t\"phone_number\": \"+5491162954762\",\n",
    "\t\"additional_attributes\": {\n",
    "\t\t\"description\": \"\",\n",
    "\t\t\"company_name\": \"\",\n",
    "\t\t\"country_code\": \"AR\",\n",
    "\t\t\"country\": \"Argentina\",\n",
    "\t\t\"city\": \"benavides\",\n",
    "\t\t\"social_profiles\": {\n",
    "\t\t\t\"twitter\": \"\",\n",
    "\t\t\t\"facebook\": \"\",\n",
    "\t\t\t\"linkedin\": \"\",\n",
    "\t\t\t\"github\": \"\",\n",
    "\t\t\t\"instagram\": \"\"\n",
    "\t\t}\n",
    "\t}\n",
    "}"
   ],
   "metadata": {
    "collapsed": false,
    "ExecuteTime": {
     "end_time": "2023-12-22T12:22:55.656401219Z",
     "start_time": "2023-12-22T12:22:55.647264540Z"
    }
   }
  },
  {
   "cell_type": "code",
   "execution_count": 131,
   "outputs": [
    {
     "data": {
      "text/plain": "{'errors': ['Necesitas iniciar sesión o registrarte antes de continuar.']}"
     },
     "execution_count": 131,
     "metadata": {},
     "output_type": "execute_result"
    }
   ],
   "source": [
    "session.post(f\"{contact_url}/filter?include_contact_inboxes=false&page=1&sort=name\", json= {\"payload\": [{\"attribute_key\": \"phone_number\", \"filter_operator\": \"equal_to\", \"attribute_model\": \"standard\", \"custom_attribute_type\": \"\", \"values\": [\"5491162954762\"]}]}).json()"
   ],
   "metadata": {
    "collapsed": false,
    "ExecuteTime": {
     "end_time": "2023-12-22T11:38:30.716030470Z",
     "start_time": "2023-12-22T11:38:30.013518259Z"
    }
   }
  },
  {
   "cell_type": "code",
   "execution_count": 128,
   "outputs": [
    {
     "data": {
      "text/plain": "{'errors': ['Necesitas iniciar sesión o registrarte antes de continuar.']}"
     },
     "execution_count": 128,
     "metadata": {},
     "output_type": "execute_result"
    }
   ],
   "source": [
    "session.get(contact_url).json()"
   ],
   "metadata": {
    "collapsed": false,
    "ExecuteTime": {
     "end_time": "2023-12-22T11:38:09.420718934Z",
     "start_time": "2023-12-22T11:38:08.725101677Z"
    }
   }
  },
  {
   "cell_type": "code",
   "execution_count": 144,
   "outputs": [],
   "source": [
    "response = session.post(contact_url, json=contact_payload)"
   ],
   "metadata": {
    "collapsed": false,
    "ExecuteTime": {
     "end_time": "2023-12-22T12:23:00.450873690Z",
     "start_time": "2023-12-22T12:22:59.736033213Z"
    }
   }
  },
  {
   "cell_type": "code",
   "execution_count": 145,
   "outputs": [
    {
     "data": {
      "text/plain": "401"
     },
     "execution_count": 145,
     "metadata": {},
     "output_type": "execute_result"
    }
   ],
   "source": [
    "response.status_code"
   ],
   "metadata": {
    "collapsed": false,
    "ExecuteTime": {
     "end_time": "2023-12-22T12:23:01.202233952Z",
     "start_time": "2023-12-22T12:23:01.192355469Z"
    }
   }
  },
  {
   "cell_type": "code",
   "execution_count": 146,
   "outputs": [
    {
     "data": {
      "text/plain": "{'errors': ['Necesitas iniciar sesión o registrarte antes de continuar.']}"
     },
     "execution_count": 146,
     "metadata": {},
     "output_type": "execute_result"
    }
   ],
   "source": [
    "response.json()"
   ],
   "metadata": {
    "collapsed": false,
    "ExecuteTime": {
     "end_time": "2023-12-22T12:23:03.154041032Z",
     "start_time": "2023-12-22T12:23:03.135877915Z"
    }
   }
  },
  {
   "cell_type": "code",
   "execution_count": 28,
   "outputs": [],
   "source": [
    "# create a contact inbox"
   ],
   "metadata": {
    "collapsed": false,
    "ExecuteTime": {
     "end_time": "2023-12-22T09:00:44.961909528Z",
     "start_time": "2023-12-22T09:00:44.916121546Z"
    }
   }
  },
  {
   "cell_type": "code",
   "execution_count": 29,
   "outputs": [],
   "source": [
    "inbox_url = \"http://chat.vecinos.com.ar/api/v1/accounts/2/contacts/{contact_id}/contact_inboxes\""
   ],
   "metadata": {
    "collapsed": false,
    "ExecuteTime": {
     "end_time": "2023-12-22T09:00:45.685804361Z",
     "start_time": "2023-12-22T09:00:45.671727603Z"
    }
   }
  },
  {
   "cell_type": "code",
   "execution_count": 30,
   "outputs": [],
   "source": [
    "contact_id = response.json()[\"payload\"][\"contact\"][\"id\"]"
   ],
   "metadata": {
    "collapsed": false,
    "ExecuteTime": {
     "end_time": "2023-12-22T09:00:49.008022237Z",
     "start_time": "2023-12-22T09:00:48.965566732Z"
    }
   }
  },
  {
   "cell_type": "code",
   "execution_count": 31,
   "outputs": [
    {
     "data": {
      "text/plain": "10"
     },
     "execution_count": 31,
     "metadata": {},
     "output_type": "execute_result"
    }
   ],
   "source": [
    "contact_id"
   ],
   "metadata": {
    "collapsed": false,
    "ExecuteTime": {
     "end_time": "2023-12-22T09:00:49.304880115Z",
     "start_time": "2023-12-22T09:00:49.295659547Z"
    }
   }
  },
  {
   "cell_type": "code",
   "execution_count": 45,
   "outputs": [],
   "source": [
    "inbox_payload = {\n",
    "\t\"inbox_id\": 1,\n",
    "    \"source_id\": \"+5491162954762\"\n",
    "}"
   ],
   "metadata": {
    "collapsed": false,
    "ExecuteTime": {
     "end_time": "2023-12-16T13:08:08.060344167Z",
     "start_time": "2023-12-16T13:08:08.055704531Z"
    }
   }
  },
  {
   "cell_type": "code",
   "execution_count": 46,
   "outputs": [],
   "source": [
    "response = session.post(inbox_url.format(contact_id=contact_id), json=inbox_payload)"
   ],
   "metadata": {
    "collapsed": false,
    "ExecuteTime": {
     "end_time": "2023-12-16T13:08:18.323170998Z",
     "start_time": "2023-12-16T13:08:17.163267403Z"
    }
   }
  },
  {
   "cell_type": "code",
   "execution_count": 47,
   "outputs": [
    {
     "data": {
      "text/plain": "200"
     },
     "execution_count": 47,
     "metadata": {},
     "output_type": "execute_result"
    }
   ],
   "source": [
    "response.status_code"
   ],
   "metadata": {
    "collapsed": false,
    "ExecuteTime": {
     "end_time": "2023-12-16T13:08:19.199338771Z",
     "start_time": "2023-12-16T13:08:19.193941895Z"
    }
   }
  },
  {
   "cell_type": "code",
   "execution_count": 48,
   "outputs": [
    {
     "data": {
      "text/plain": "{'source_id': '+5491162954762',\n 'inbox': {'id': 1,\n  'avatar_url': '',\n  'channel_id': 1,\n  'name': 'ave1',\n  'channel_type': 'Channel::Api',\n  'greeting_enabled': False,\n  'greeting_message': '',\n  'working_hours_enabled': False,\n  'enable_email_collect': True,\n  'csat_survey_enabled': False,\n  'enable_auto_assignment': True,\n  'auto_assignment_config': {},\n  'out_of_office_message': None,\n  'working_hours': [{'day_of_week': 0,\n    'closed_all_day': True,\n    'open_hour': None,\n    'open_minutes': None,\n    'close_hour': None,\n    'close_minutes': None,\n    'open_all_day': False},\n   {'day_of_week': 1,\n    'closed_all_day': False,\n    'open_hour': 9,\n    'open_minutes': 0,\n    'close_hour': 17,\n    'close_minutes': 0,\n    'open_all_day': False},\n   {'day_of_week': 2,\n    'closed_all_day': False,\n    'open_hour': 9,\n    'open_minutes': 0,\n    'close_hour': 17,\n    'close_minutes': 0,\n    'open_all_day': False},\n   {'day_of_week': 3,\n    'closed_all_day': False,\n    'open_hour': 9,\n    'open_minutes': 0,\n    'close_hour': 17,\n    'close_minutes': 0,\n    'open_all_day': False},\n   {'day_of_week': 4,\n    'closed_all_day': False,\n    'open_hour': 9,\n    'open_minutes': 0,\n    'close_hour': 17,\n    'close_minutes': 0,\n    'open_all_day': False},\n   {'day_of_week': 5,\n    'closed_all_day': False,\n    'open_hour': 9,\n    'open_minutes': 0,\n    'close_hour': 17,\n    'close_minutes': 0,\n    'open_all_day': False},\n   {'day_of_week': 6,\n    'closed_all_day': True,\n    'open_hour': None,\n    'open_minutes': None,\n    'close_hour': None,\n    'close_minutes': None,\n    'open_all_day': False}],\n  'timezone': 'UTC',\n  'callback_webhook_url': None,\n  'allow_messages_after_resolved': True,\n  'lock_to_single_conversation': False,\n  'sender_name_type': 'friendly',\n  'business_name': None,\n  'widget_color': None,\n  'website_url': None,\n  'hmac_mandatory': False,\n  'welcome_title': None,\n  'welcome_tagline': None,\n  'web_widget_script': None,\n  'website_token': None,\n  'selected_feature_flags': None,\n  'reply_time': None,\n  'messaging_service_sid': None,\n  'phone_number': None,\n  'hmac_token': 'ZqCZVeyWDF4S4PZ6saUwwasb',\n  'webhook_url': 'http://api.evo.vecinos.com.ar/chatwoot/webhook/ave1',\n  'inbox_identifier': 'qHXqeS2uQHygjfEMxYsHHzCp',\n  'additional_attributes': {},\n  'provider': None}}"
     },
     "execution_count": 48,
     "metadata": {},
     "output_type": "execute_result"
    }
   ],
   "source": [
    "response.json()"
   ],
   "metadata": {
    "collapsed": false,
    "ExecuteTime": {
     "end_time": "2023-12-16T13:08:22.303618597Z",
     "start_time": "2023-12-16T13:08:22.297885924Z"
    }
   }
  },
  {
   "cell_type": "code",
   "execution_count": 49,
   "outputs": [],
   "source": [
    "# get contact conversations"
   ],
   "metadata": {
    "collapsed": false,
    "ExecuteTime": {
     "end_time": "2023-12-16T13:13:18.083803833Z",
     "start_time": "2023-12-16T13:13:18.077551650Z"
    }
   }
  },
  {
   "cell_type": "code",
   "execution_count": 42,
   "outputs": [],
   "source": [
    "contact_id = 4\n",
    "conversations_url = \"http://chat.vecinos.com.ar/api/v1/accounts/2/contacts/{contact_id}/conversations\""
   ],
   "metadata": {
    "collapsed": false,
    "ExecuteTime": {
     "end_time": "2023-12-22T09:03:52.773167286Z",
     "start_time": "2023-12-22T09:03:52.764047606Z"
    }
   }
  },
  {
   "cell_type": "code",
   "execution_count": 43,
   "outputs": [],
   "source": [
    "response = session.get(conversations_url.format(contact_id=contact_id))"
   ],
   "metadata": {
    "collapsed": false,
    "ExecuteTime": {
     "end_time": "2023-12-22T09:03:54.385495910Z",
     "start_time": "2023-12-22T09:03:53.381985833Z"
    }
   }
  },
  {
   "cell_type": "code",
   "execution_count": 44,
   "outputs": [
    {
     "data": {
      "text/plain": "200"
     },
     "execution_count": 44,
     "metadata": {},
     "output_type": "execute_result"
    }
   ],
   "source": [
    "response.status_code"
   ],
   "metadata": {
    "collapsed": false,
    "ExecuteTime": {
     "end_time": "2023-12-22T09:03:54.393204771Z",
     "start_time": "2023-12-22T09:03:54.385828779Z"
    }
   }
  },
  {
   "cell_type": "code",
   "execution_count": 45,
   "outputs": [
    {
     "data": {
      "text/plain": "{'payload': [{'meta': {'sender': {'additional_attributes': {},\n     'availability_status': 'offline',\n     'email': None,\n     'id': 4,\n     'name': 'Ernesto',\n     'phone_number': '+5491136206603',\n     'identifier': '5491136206603@s.whatsapp.net',\n     'thumbnail': 'http://chat.vecinos.com.ar/rails/active_storage/representations/redirect/eyJfcmFpbHMiOnsibWVzc2FnZSI6IkJBaHBNdz09IiwiZXhwIjpudWxsLCJwdXIiOiJibG9iX2lkIn19--b23c07b05ca392a8419fc5728f4222e2c12f2c1f/eyJfcmFpbHMiOnsibWVzc2FnZSI6IkJBaDdCem9MWm05eWJXRjBTU0lKYW5CbFp3WTZCa1ZVT2hOeVpYTnBlbVZmZEc5ZlptbHNiRnNIYVFINk1BPT0iLCJleHAiOm51bGwsInB1ciI6InZhcmlhdGlvbiJ9fQ==--5f3375fec9a9cd47682f6a1c0ccf7a892184cef2/file.enc',\n     'custom_attributes': {},\n     'last_activity_at': 1702303040,\n     'created_at': 1702303038},\n    'channel': 'Channel::Api',\n    'assignee': {'id': 2,\n     'account_id': 2,\n     'availability_status': 'offline',\n     'auto_offline': True,\n     'confirmed': True,\n     'email': 'e7canasta@gmail.com',\n     'available_name': 'Gaby',\n     'name': 'Gabriel Simionato',\n     'role': 'administrator',\n     'thumbnail': ''},\n    'team': {'id': 1,\n     'name': 'lanus',\n     'description': 'Equipo de lanus',\n     'allow_auto_assign': True,\n     'account_id': 2,\n     'is_member': True},\n    'hmac_verified': False},\n   'id': 10,\n   'messages': [{'id': 61,\n     'content': 'La conversación fue marcada por Gabriel Simionato',\n     'account_id': 2,\n     'inbox_id': 1,\n     'conversation_id': 10,\n     'message_type': 2,\n     'created_at': 1703235352,\n     'updated_at': '2023-12-22T08:55:52.857Z',\n     'private': False,\n     'status': 'sent',\n     'source_id': None,\n     'content_type': 'text',\n     'content_attributes': {},\n     'sender_type': None,\n     'sender_id': None,\n     'external_source_ids': {},\n     'additional_attributes': {},\n     'processed_message_content': 'La conversación fue marcada por Gabriel Simionato',\n     'sentiment': {},\n     'conversation': {'assignee_id': 2,\n      'unread_count': 0,\n      'last_activity_at': 1703235352,\n      'contact_inbox': {'source_id': '+5491136206603'}}}],\n   'account_id': 2,\n   'uuid': '761ff4ab-8365-49ff-a738-d36527399fe5',\n   'additional_attributes': {'place_id': '1234', 'municipio': 'lanus'},\n   'agent_last_seen_at': 1703235352,\n   'assignee_last_seen_at': 1703235352,\n   'can_reply': True,\n   'contact_last_seen_at': 0,\n   'custom_attributes': {},\n   'inbox_id': 1,\n   'labels': [],\n   'muted': False,\n   'snoozed_until': None,\n   'status': 'resolved',\n   'created_at': 1702734016,\n   'timestamp': 1703235352,\n   'first_reply_created_at': 1702736324,\n   'unread_count': 0,\n   'last_non_activity_message': {'id': 50,\n    'content': 'Hola Vecino',\n    'account_id': 2,\n    'inbox_id': 1,\n    'conversation_id': 10,\n    'message_type': 1,\n    'created_at': 1702736830,\n    'updated_at': '2023-12-16T14:27:10.740Z',\n    'private': False,\n    'status': 'sent',\n    'source_id': None,\n    'content_type': 'text',\n    'content_attributes': {},\n    'sender_type': 'User',\n    'sender_id': 2,\n    'external_source_ids': {},\n    'additional_attributes': {},\n    'processed_message_content': 'Hola Vecino',\n    'sentiment': {},\n    'conversation': {'assignee_id': 2,\n     'unread_count': 0,\n     'last_activity_at': 1703235352,\n     'contact_inbox': {'source_id': '+5491136206603'}},\n    'sender': {'id': 2,\n     'name': 'Gabriel Simionato',\n     'available_name': 'Gaby',\n     'avatar_url': '',\n     'type': 'user',\n     'availability_status': 'offline',\n     'thumbnail': ''}},\n   'last_activity_at': 1703235352,\n   'priority': None,\n   'waiting_since': 0},\n  {'meta': {'sender': {'additional_attributes': {},\n     'availability_status': 'offline',\n     'email': None,\n     'id': 4,\n     'name': 'Ernesto',\n     'phone_number': '+5491136206603',\n     'identifier': '5491136206603@s.whatsapp.net',\n     'thumbnail': 'http://chat.vecinos.com.ar/rails/active_storage/representations/redirect/eyJfcmFpbHMiOnsibWVzc2FnZSI6IkJBaHBNdz09IiwiZXhwIjpudWxsLCJwdXIiOiJibG9iX2lkIn19--b23c07b05ca392a8419fc5728f4222e2c12f2c1f/eyJfcmFpbHMiOnsibWVzc2FnZSI6IkJBaDdCem9MWm05eWJXRjBTU0lKYW5CbFp3WTZCa1ZVT2hOeVpYTnBlbVZmZEc5ZlptbHNiRnNIYVFINk1BPT0iLCJleHAiOm51bGwsInB1ciI6InZhcmlhdGlvbiJ9fQ==--5f3375fec9a9cd47682f6a1c0ccf7a892184cef2/file.enc',\n     'custom_attributes': {},\n     'last_activity_at': 1702303040,\n     'created_at': 1702303038},\n    'channel': 'Channel::Api',\n    'team': {'id': 1,\n     'name': 'lanus',\n     'description': 'Equipo de lanus',\n     'allow_auto_assign': True,\n     'account_id': 2,\n     'is_member': True},\n    'hmac_verified': False},\n   'id': 9,\n   'messages': [{'id': 62,\n     'content': 'La conversación fue marcada por Gabriel Simionato',\n     'account_id': 2,\n     'inbox_id': 1,\n     'conversation_id': 9,\n     'message_type': 2,\n     'created_at': 1703235355,\n     'updated_at': '2023-12-22T08:55:55.545Z',\n     'private': False,\n     'status': 'sent',\n     'source_id': None,\n     'content_type': 'text',\n     'content_attributes': {},\n     'sender_type': None,\n     'sender_id': None,\n     'external_source_ids': {},\n     'additional_attributes': {},\n     'processed_message_content': 'La conversación fue marcada por Gabriel Simionato',\n     'sentiment': {},\n     'conversation': {'assignee_id': None,\n      'unread_count': 0,\n      'last_activity_at': 1703235355,\n      'contact_inbox': {'source_id': '+5491136206603'}}}],\n   'account_id': 2,\n   'uuid': 'b9a34c98-38aa-4dbb-89e7-39c8016b47ef',\n   'additional_attributes': {'place_id': '1234', 'municipio': 'lanus'},\n   'agent_last_seen_at': 1703235354,\n   'assignee_last_seen_at': 0,\n   'can_reply': True,\n   'contact_last_seen_at': 0,\n   'custom_attributes': {},\n   'inbox_id': 1,\n   'labels': [],\n   'muted': False,\n   'snoozed_until': None,\n   'status': 'resolved',\n   'created_at': 1702733956,\n   'timestamp': 1703235355,\n   'first_reply_created_at': 0,\n   'unread_count': 0,\n   'last_non_activity_message': None,\n   'last_activity_at': 1703235355,\n   'priority': None,\n   'waiting_since': 1702733956},\n  {'meta': {'sender': {'additional_attributes': {},\n     'availability_status': 'offline',\n     'email': None,\n     'id': 4,\n     'name': 'Ernesto',\n     'phone_number': '+5491136206603',\n     'identifier': '5491136206603@s.whatsapp.net',\n     'thumbnail': 'http://chat.vecinos.com.ar/rails/active_storage/representations/redirect/eyJfcmFpbHMiOnsibWVzc2FnZSI6IkJBaHBNdz09IiwiZXhwIjpudWxsLCJwdXIiOiJibG9iX2lkIn19--b23c07b05ca392a8419fc5728f4222e2c12f2c1f/eyJfcmFpbHMiOnsibWVzc2FnZSI6IkJBaDdCem9MWm05eWJXRjBTU0lKYW5CbFp3WTZCa1ZVT2hOeVpYTnBlbVZmZEc5ZlptbHNiRnNIYVFINk1BPT0iLCJleHAiOm51bGwsInB1ciI6InZhcmlhdGlvbiJ9fQ==--5f3375fec9a9cd47682f6a1c0ccf7a892184cef2/file.enc',\n     'custom_attributes': {},\n     'last_activity_at': 1702303040,\n     'created_at': 1702303038},\n    'channel': 'Channel::Api',\n    'assignee': {'id': 2,\n     'account_id': 2,\n     'availability_status': 'offline',\n     'auto_offline': True,\n     'confirmed': True,\n     'email': 'e7canasta@gmail.com',\n     'available_name': 'Gaby',\n     'name': 'Gabriel Simionato',\n     'role': 'administrator',\n     'thumbnail': ''},\n    'hmac_verified': False},\n   'id': 8,\n   'messages': [{'id': 40,\n     'content': 'La conversación fue marcada por Gabriel Simionato',\n     'account_id': 2,\n     'inbox_id': 1,\n     'conversation_id': 8,\n     'message_type': 2,\n     'created_at': 1702732746,\n     'updated_at': '2023-12-16T13:19:06.065Z',\n     'private': False,\n     'status': 'sent',\n     'source_id': None,\n     'content_type': 'text',\n     'content_attributes': {},\n     'sender_type': None,\n     'sender_id': None,\n     'external_source_ids': {},\n     'additional_attributes': {},\n     'processed_message_content': 'La conversación fue marcada por Gabriel Simionato',\n     'sentiment': {},\n     'conversation': {'assignee_id': 2,\n      'unread_count': 0,\n      'last_activity_at': 1702732746,\n      'contact_inbox': {'source_id': 'b528295d-6505-45f2-b6b3-b5df8e86488d'}}}],\n   'account_id': 2,\n   'uuid': '37f537b5-132e-47b7-91df-332612fc29f2',\n   'additional_attributes': {'mail_subject': ''},\n   'agent_last_seen_at': 1702732741,\n   'assignee_last_seen_at': 1702732741,\n   'can_reply': True,\n   'contact_last_seen_at': 0,\n   'custom_attributes': {},\n   'inbox_id': 1,\n   'labels': [],\n   'muted': False,\n   'snoozed_until': None,\n   'status': 'resolved',\n   'created_at': 1702732209,\n   'timestamp': 1702732746,\n   'first_reply_created_at': 1702732209,\n   'unread_count': 0,\n   'last_non_activity_message': {'id': 39,\n    'content': 'alerta vecino',\n    'account_id': 2,\n    'inbox_id': 1,\n    'conversation_id': 8,\n    'message_type': 1,\n    'created_at': 1702732209,\n    'updated_at': '2023-12-16T13:10:09.110Z',\n    'private': False,\n    'status': 'sent',\n    'source_id': None,\n    'content_type': 'text',\n    'content_attributes': {},\n    'sender_type': 'User',\n    'sender_id': 2,\n    'external_source_ids': {},\n    'additional_attributes': {},\n    'processed_message_content': 'alerta vecino',\n    'sentiment': {},\n    'conversation': {'assignee_id': 2,\n     'unread_count': 0,\n     'last_activity_at': 1702732746,\n     'contact_inbox': {'source_id': 'b528295d-6505-45f2-b6b3-b5df8e86488d'}},\n    'sender': {'id': 2,\n     'name': 'Gabriel Simionato',\n     'available_name': 'Gaby',\n     'avatar_url': '',\n     'type': 'user',\n     'availability_status': 'offline',\n     'thumbnail': ''}},\n   'last_activity_at': 1702732746,\n   'priority': None,\n   'waiting_since': 0},\n  {'meta': {'sender': {'additional_attributes': {},\n     'availability_status': 'offline',\n     'email': None,\n     'id': 4,\n     'name': 'Ernesto',\n     'phone_number': '+5491136206603',\n     'identifier': '5491136206603@s.whatsapp.net',\n     'thumbnail': 'http://chat.vecinos.com.ar/rails/active_storage/representations/redirect/eyJfcmFpbHMiOnsibWVzc2FnZSI6IkJBaHBNdz09IiwiZXhwIjpudWxsLCJwdXIiOiJibG9iX2lkIn19--b23c07b05ca392a8419fc5728f4222e2c12f2c1f/eyJfcmFpbHMiOnsibWVzc2FnZSI6IkJBaDdCem9MWm05eWJXRjBTU0lKYW5CbFp3WTZCa1ZVT2hOeVpYTnBlbVZmZEc5ZlptbHNiRnNIYVFINk1BPT0iLCJleHAiOm51bGwsInB1ciI6InZhcmlhdGlvbiJ9fQ==--5f3375fec9a9cd47682f6a1c0ccf7a892184cef2/file.enc',\n     'custom_attributes': {},\n     'last_activity_at': 1702303040,\n     'created_at': 1702303038},\n    'channel': 'Channel::Api',\n    'assignee': {'id': 2,\n     'account_id': 2,\n     'availability_status': 'offline',\n     'auto_offline': True,\n     'confirmed': True,\n     'email': 'e7canasta@gmail.com',\n     'available_name': 'Gaby',\n     'name': 'Gabriel Simionato',\n     'role': 'administrator',\n     'thumbnail': ''},\n    'hmac_verified': False},\n   'id': 4,\n   'messages': [{'id': 41,\n     'content': 'La conversación fue marcada por Gabriel Simionato',\n     'account_id': 2,\n     'inbox_id': 1,\n     'conversation_id': 4,\n     'message_type': 2,\n     'created_at': 1702732748,\n     'updated_at': '2023-12-16T13:19:08.933Z',\n     'private': False,\n     'status': 'sent',\n     'source_id': None,\n     'content_type': 'text',\n     'content_attributes': {},\n     'sender_type': None,\n     'sender_id': None,\n     'external_source_ids': {},\n     'additional_attributes': {},\n     'processed_message_content': 'La conversación fue marcada por Gabriel Simionato',\n     'sentiment': {},\n     'conversation': {'assignee_id': 2,\n      'unread_count': 0,\n      'last_activity_at': 1702732748,\n      'contact_inbox': {'source_id': 'b528295d-6505-45f2-b6b3-b5df8e86488d'}}}],\n   'account_id': 2,\n   'uuid': 'a86be934-eeec-4d88-8fc9-98d5254b8ae7',\n   'additional_attributes': {},\n   'agent_last_seen_at': 1702732748,\n   'assignee_last_seen_at': 1702732748,\n   'can_reply': True,\n   'contact_last_seen_at': 0,\n   'custom_attributes': {},\n   'inbox_id': 1,\n   'labels': [],\n   'muted': False,\n   'snoozed_until': None,\n   'status': 'resolved',\n   'created_at': 1702303039,\n   'timestamp': 1702732748,\n   'first_reply_created_at': 0,\n   'unread_count': 0,\n   'last_non_activity_message': {'id': 31,\n    'content': 'Hola',\n    'account_id': 2,\n    'inbox_id': 1,\n    'conversation_id': 4,\n    'message_type': 0,\n    'created_at': 1702303040,\n    'updated_at': '2023-12-11T13:57:20.535Z',\n    'private': False,\n    'status': 'sent',\n    'source_id': None,\n    'content_type': 'text',\n    'content_attributes': {},\n    'sender_type': 'Contact',\n    'sender_id': 4,\n    'external_source_ids': {},\n    'additional_attributes': {},\n    'processed_message_content': 'Hola',\n    'sentiment': {},\n    'conversation': {'assignee_id': 2,\n     'unread_count': 0,\n     'last_activity_at': 1702732748,\n     'contact_inbox': {'source_id': 'b528295d-6505-45f2-b6b3-b5df8e86488d'}},\n    'sender': {'additional_attributes': {},\n     'custom_attributes': {},\n     'email': None,\n     'id': 4,\n     'identifier': '5491136206603@s.whatsapp.net',\n     'name': 'Ernesto',\n     'phone_number': '+5491136206603',\n     'thumbnail': 'http://chat.vecinos.com.ar/rails/active_storage/representations/redirect/eyJfcmFpbHMiOnsibWVzc2FnZSI6IkJBaHBNdz09IiwiZXhwIjpudWxsLCJwdXIiOiJibG9iX2lkIn19--b23c07b05ca392a8419fc5728f4222e2c12f2c1f/eyJfcmFpbHMiOnsibWVzc2FnZSI6IkJBaDdCem9MWm05eWJXRjBTU0lKYW5CbFp3WTZCa1ZVT2hOeVpYTnBlbVZmZEc5ZlptbHNiRnNIYVFINk1BPT0iLCJleHAiOm51bGwsInB1ciI6InZhcmlhdGlvbiJ9fQ==--5f3375fec9a9cd47682f6a1c0ccf7a892184cef2/file.enc',\n     'type': 'contact'}},\n   'last_activity_at': 1702732748,\n   'priority': None,\n   'waiting_since': 1702303039}]}"
     },
     "execution_count": 45,
     "metadata": {},
     "output_type": "execute_result"
    }
   ],
   "source": [
    "response.json()"
   ],
   "metadata": {
    "collapsed": false,
    "ExecuteTime": {
     "end_time": "2023-12-22T09:03:55.043267046Z",
     "start_time": "2023-12-22T09:03:55.034213036Z"
    }
   }
  },
  {
   "cell_type": "code",
   "execution_count": 40,
   "outputs": [],
   "source": [
    "# create a new conversation with a contact\n",
    "\n"
   ],
   "metadata": {
    "collapsed": false,
    "ExecuteTime": {
     "end_time": "2023-12-22T09:02:49.755235858Z",
     "start_time": "2023-12-22T09:02:49.709581064Z"
    }
   }
  },
  {
   "cell_type": "code",
   "execution_count": 46,
   "outputs": [],
   "source": [
    "conversation_url = \"https://chat.vecinos.com.ar/api/v1/inboxes/1/contacts/{contact_id}/conversations\""
   ],
   "metadata": {
    "collapsed": false,
    "ExecuteTime": {
     "end_time": "2023-12-22T09:04:55.048343960Z",
     "start_time": "2023-12-22T09:04:55.003135235Z"
    }
   }
  },
  {
   "cell_type": "code",
   "execution_count": 47,
   "outputs": [],
   "source": [
    "conversation_payload = {\n",
    "\"source_id\": \"+5491136206603\"\n",
    "}"
   ],
   "metadata": {
    "collapsed": false,
    "ExecuteTime": {
     "end_time": "2023-12-22T09:04:56.352851906Z",
     "start_time": "2023-12-22T09:04:56.344916378Z"
    }
   }
  },
  {
   "cell_type": "code",
   "execution_count": 48,
   "outputs": [],
   "source": [
    "response = session.post(conversation_url.format(contact_id=contact_id), json=conversation_payload)"
   ],
   "metadata": {
    "collapsed": false,
    "ExecuteTime": {
     "end_time": "2023-12-22T09:04:58.923270049Z",
     "start_time": "2023-12-22T09:04:57.648656768Z"
    }
   }
  },
  {
   "cell_type": "code",
   "execution_count": 49,
   "outputs": [
    {
     "data": {
      "text/plain": "404"
     },
     "execution_count": 49,
     "metadata": {},
     "output_type": "execute_result"
    }
   ],
   "source": [
    "response.status_code"
   ],
   "metadata": {
    "collapsed": false,
    "ExecuteTime": {
     "end_time": "2023-12-22T09:04:58.924282602Z",
     "start_time": "2023-12-22T09:04:58.923566802Z"
    }
   }
  },
  {
   "cell_type": "code",
   "execution_count": 50,
   "outputs": [
    {
     "data": {
      "text/plain": "<Response [404]>"
     },
     "execution_count": 50,
     "metadata": {},
     "output_type": "execute_result"
    }
   ],
   "source": [
    "response"
   ],
   "metadata": {
    "collapsed": false,
    "ExecuteTime": {
     "end_time": "2023-12-22T09:05:01.794980352Z",
     "start_time": "2023-12-22T09:05:01.784181448Z"
    }
   }
  },
  {
   "cell_type": "code",
   "execution_count": 92,
   "outputs": [],
   "source": [
    "# list all conversations\n",
    "\n"
   ],
   "metadata": {
    "collapsed": false,
    "ExecuteTime": {
     "end_time": "2023-12-16T13:26:01.090350611Z",
     "start_time": "2023-12-16T13:26:01.054654795Z"
    }
   }
  },
  {
   "cell_type": "code",
   "execution_count": 51,
   "outputs": [
    {
     "ename": "SyntaxError",
     "evalue": "unterminated string literal (detected at line 1) (1794108647.py, line 1)",
     "output_type": "error",
     "traceback": [
      "\u001B[0;36m  Cell \u001B[0;32mIn[51], line 1\u001B[0;36m\u001B[0m\n\u001B[0;31m    conversations_url = \"http://chat.vecinos.com.ar/public/api/v1/inboxes/{inbox_identifier}/contacts/{contact_identifier}/conversations\u001B[0m\n\u001B[0m                        ^\u001B[0m\n\u001B[0;31mSyntaxError\u001B[0m\u001B[0;31m:\u001B[0m unterminated string literal (detected at line 1)\n"
     ]
    }
   ],
   "source": [
    "conversations_url = \"http://chat.vecinos.com.ar/public/api/v1/inboxes/{inbox_identifier}/contacts/{contact_identifier}/conversations"
   ],
   "metadata": {
    "collapsed": false,
    "ExecuteTime": {
     "end_time": "2023-12-22T09:05:12.294195678Z",
     "start_time": "2023-12-22T09:05:12.277471684Z"
    }
   }
  },
  {
   "cell_type": "markdown",
   "source": [
    "----\n",
    "# make a conversation"
   ],
   "metadata": {
    "collapsed": false
   }
  },
  {
   "cell_type": "code",
   "execution_count": 100,
   "outputs": [],
   "source": [
    "url = \"https://chat.vecinos.com.ar/api/v1/accounts/{account_id}/conversations\""
   ],
   "metadata": {
    "collapsed": false,
    "ExecuteTime": {
     "end_time": "2023-12-16T13:36:29.454198662Z",
     "start_time": "2023-12-16T13:36:29.416562281Z"
    }
   }
  },
  {
   "cell_type": "code",
   "execution_count": 101,
   "outputs": [],
   "source": [
    "account_id = 2\n",
    "inbox_id = 1"
   ],
   "metadata": {
    "collapsed": false,
    "ExecuteTime": {
     "end_time": "2023-12-16T13:36:42.412663362Z",
     "start_time": "2023-12-16T13:36:42.399085043Z"
    }
   }
  },
  {
   "cell_type": "code",
   "execution_count": 102,
   "outputs": [],
   "source": [
    "contact_id = 4"
   ],
   "metadata": {
    "collapsed": false,
    "ExecuteTime": {
     "end_time": "2023-12-16T13:36:49.191310809Z",
     "start_time": "2023-12-16T13:36:49.159994798Z"
    }
   }
  },
  {
   "cell_type": "code",
   "execution_count": 107,
   "outputs": [],
   "source": [
    "payload = {\n",
    "\t\"contact_id\": contact_id,\n",
    "\t\"inbox_id\": inbox_id,\n",
    "\t\"status\": \"open\",\n",
    "\t\"priority\": 0,\n",
    "\t\"team_id\": 1,\n",
    "\t\"assignee_id\": 2,\n",
    "\t\"tags\": [\n",
    "\t\t\"lanus\"\n",
    "\t],\n",
    "\t\"additional_attributes\": {\n",
    "\t\t\"municipio\": \"lanus\",\n",
    "\t\t\"place_id\": \"1234\"\n",
    "\t},\n",
    "\t\"source_id\": \"+5491136206603\"\n",
    "}"
   ],
   "metadata": {
    "collapsed": false,
    "ExecuteTime": {
     "end_time": "2023-12-16T13:40:15.138247406Z",
     "start_time": "2023-12-16T13:40:15.097012861Z"
    }
   }
  },
  {
   "cell_type": "code",
   "execution_count": 108,
   "outputs": [],
   "source": [
    "response = session.post(url.format(account_id=account_id), json=payload)"
   ],
   "metadata": {
    "collapsed": false,
    "ExecuteTime": {
     "end_time": "2023-12-16T13:40:17.133207789Z",
     "start_time": "2023-12-16T13:40:16.040949937Z"
    }
   }
  },
  {
   "cell_type": "code",
   "execution_count": 109,
   "outputs": [
    {
     "data": {
      "text/plain": "200"
     },
     "execution_count": 109,
     "metadata": {},
     "output_type": "execute_result"
    }
   ],
   "source": [
    "response.status_code"
   ],
   "metadata": {
    "collapsed": false,
    "ExecuteTime": {
     "end_time": "2023-12-16T13:40:18.587142561Z",
     "start_time": "2023-12-16T13:40:18.578883125Z"
    }
   }
  },
  {
   "cell_type": "code",
   "execution_count": 112,
   "outputs": [
    {
     "name": "stdout",
     "output_type": "stream",
     "text": [
      "Error: name 'your_account_id' is not defined\n",
      "Error: name 'your_account_id' is not defined\n",
      "Error: name 'your_account_id' is not defined\n",
      "Error: name 'your_account_id' is not defined\n"
     ]
    }
   ],
   "source": [
    "import requests\n",
    "from typing import List, Dict, Any\n",
    "from io import BytesIO\n",
    "from requests_toolbelt.multipart.encoder import MultipartEncoder\n",
    "\n",
    "class Messages:\n",
    "    def __init__(self, config):\n",
    "        self.chatwootAPI = config\n",
    "\n",
    "    def list_messages(self, account_id, conversation_id):\n",
    "        url = f\"/api/v1/accounts/{account_id}/conversations/{conversation_id}/messages\"\n",
    "        return self.__request(\"GET\", url, errors={401: \"Unauthorized\", 404: \"Conversation not found\"})\n",
    "\n",
    "    def create_message(self, account_id, conversation_id, data):\n",
    "        url = f\"/api/v1/accounts/{account_id}/conversations/{conversation_id}/messages\"\n",
    "        attachments = data.pop(\"attachments\", None)\n",
    "\n",
    "        files = None\n",
    "        if attachments:\n",
    "            files = []\n",
    "            for attachment in attachments:\n",
    "                content = BytesIO(attachment.get(\"content\").encode(attachment.get(\"encoding\")))\n",
    "                files.append((\"attachments\", (attachment.get(\"filename\"), content)))\n",
    "\n",
    "        return self.__request(\"POST\", url, data=data, files=files, errors={403: \"Access denied\", 404: \"Conversation not found\"})\n",
    "\n",
    "    def update_message(self, account_id, conversation_id, data, message_id):\n",
    "        url = f\"/api/v1/accounts/{account_id}/conversations/{conversation_id}/messages/{message_id}\"\n",
    "        attachments = data.pop(\"attachments\", None)\n",
    "\n",
    "        files = None\n",
    "        if attachments:\n",
    "            files = []\n",
    "            for attachment in attachments:\n",
    "                content = BytesIO(attachment.get(\"content\").encode(attachment.get(\"encoding\")))\n",
    "                files.append((\"attachments\", (attachment.get(\"filename\"), content)))\n",
    "\n",
    "        return self.__request(\"PATCH\", url, data=data, files=files, errors={403: \"Access denied\", 404: \"Conversation not found\"})\n",
    "\n",
    "    def delete_message(self, account_id, conversation_id, message_id):\n",
    "        url = f\"/api/v1/accounts/{account_id}/conversations/{conversation_id}/messages/{message_id}\"\n",
    "        return self.__request(\"DELETE\", url, errors={401: \"Unauthorized\", 404: \"The message or conversation does not exist in the account\"})\n",
    "\n",
    "    def __request(self, method, url, params=None, data=None, files=None, errors=None):\n",
    "        full_url = f\"{self.chatwootAPI['base_url']}{url}\"\n",
    "        headers = {\"Content-Type\": \"application/json\"}\n",
    "\n",
    "        response = requests.request(method, full_url, params=params, data=data, files=files, headers=headers)\n",
    "\n",
    "        if response.status_code in errors:\n",
    "            raise Exception(errors[response.status_code])\n",
    "        elif response.status_code == 200:\n",
    "            return response.json()\n",
    "        else:\n",
    "            raise Exception(f\"Unexpected error: {response.status_code}\")\n",
    "\n",
    "# Ejemplo de uso del cliente de mensajes de Chatwoot\n",
    "config = {\"base_url\": \"https://your-chatwoot-instance.com\"}\n",
    "messages_client = Messages(config)\n",
    "\n",
    "# Listar mensajes\n",
    "try:\n",
    "    result = messages_client.list_messages(account_id=your_account_id, conversation_id=your_conversation_id)\n",
    "    print(\"Lista de mensajes:\", result)\n",
    "except Exception as e:\n",
    "    print(\"Error:\", str(e))\n",
    "\n",
    "# Crear nuevo mensaje\n",
    "message_data = {\"text\": \"Nuevo mensaje\", \"attachments\": [{\"filename\": \"archivo.txt\", \"content\": \"Contenido del archivo\", \"encoding\": \"utf-8\"}]}\n",
    "try:\n",
    "    result = messages_client.create_message(account_id=your_account_id, conversation_id=your_conversation_id, data=message_data)\n",
    "    print(\"Mensaje creado:\", result)\n",
    "except Exception as e:\n",
    "    print(\"Error:\", str(e))\n",
    "\n",
    "# Actualizar mensaje\n",
    "updated_message_data = {\"text\": \"Mensaje actualizado\", \"attachments\": [{\"filename\": \"nuevo_archivo.txt\", \"content\": \"Contenido actualizado\", \"encoding\": \"utf-8\"}]}\n",
    "try:\n",
    "    result = messages_client.update_message(account_id=your_account_id, conversation_id=your_conversation_id, data=updated_message_data, message_id=your_message_id)\n",
    "    print(\"Mensaje actualizado:\", result)\n",
    "except Exception as e:\n",
    "    print(\"Error:\", str(e))\n",
    "\n",
    "# Eliminar mensaje\n",
    "try:\n",
    "    result = messages_client.delete_message(account_id=your_account_id, conversation_id=your_conversation_id, message_id=your_message_id)\n",
    "    print(\"Mensaje eliminado:\", result)\n",
    "except Exception as e:\n",
    "    print(\"Error:\", str(e))\n"
   ],
   "metadata": {
    "collapsed": false,
    "ExecuteTime": {
     "end_time": "2023-12-16T13:54:41.063872128Z",
     "start_time": "2023-12-16T13:54:41.054806390Z"
    }
   }
  },
  {
   "cell_type": "code",
   "execution_count": 111,
   "outputs": [
    {
     "name": "stdout",
     "output_type": "stream",
     "text": [
      "Collecting requests_toolbelt\r\n",
      "  Downloading requests_toolbelt-1.0.0-py2.py3-none-any.whl (54 kB)\r\n",
      "\u001B[2K     \u001B[38;2;114;156;31m━━━━━━━━━━━━━━━━━━━━━━━━━━━━━━━━━━━━━━━━\u001B[0m \u001B[32m54.5/54.5 kB\u001B[0m \u001B[31m2.0 MB/s\u001B[0m eta \u001B[36m0:00:00\u001B[0m\r\n",
      "\u001B[?25hRequirement already satisfied: requests<3.0.0,>=2.0.1 in ./lib/python3.10/site-packages (from requests_toolbelt) (2.31.0)\r\n",
      "Requirement already satisfied: charset-normalizer<4,>=2 in ./lib/python3.10/site-packages (from requests<3.0.0,>=2.0.1->requests_toolbelt) (3.3.2)\r\n",
      "Requirement already satisfied: idna<4,>=2.5 in ./lib/python3.10/site-packages (from requests<3.0.0,>=2.0.1->requests_toolbelt) (3.6)\r\n",
      "Requirement already satisfied: urllib3<3,>=1.21.1 in ./lib/python3.10/site-packages (from requests<3.0.0,>=2.0.1->requests_toolbelt) (2.1.0)\r\n",
      "Requirement already satisfied: certifi>=2017.4.17 in ./lib/python3.10/site-packages (from requests<3.0.0,>=2.0.1->requests_toolbelt) (2023.11.17)\r\n",
      "Installing collected packages: requests_toolbelt\r\n",
      "Successfully installed requests_toolbelt-1.0.0\r\n"
     ]
    }
   ],
   "source": [
    "!pip install requests_toolbelt"
   ],
   "metadata": {
    "collapsed": false,
    "ExecuteTime": {
     "end_time": "2023-12-16T13:54:37.805163098Z",
     "start_time": "2023-12-16T13:54:36.386913296Z"
    }
   }
  },
  {
   "cell_type": "code",
   "execution_count": 57,
   "outputs": [],
   "source": [
    "class ChatwootConfig(BaseModel):\n",
    "    base_url: str\n"
   ],
   "metadata": {
    "collapsed": false,
    "ExecuteTime": {
     "end_time": "2023-12-22T09:06:22.482929875Z",
     "start_time": "2023-12-22T09:06:22.432281977Z"
    }
   }
  },
  {
   "cell_type": "code",
   "execution_count": 58,
   "outputs": [],
   "source": [
    "config = ChatwootConfig(base_url=\"https://chat.vecinos.com.ar\")"
   ],
   "metadata": {
    "collapsed": false,
    "ExecuteTime": {
     "end_time": "2023-12-22T09:06:22.721447298Z",
     "start_time": "2023-12-22T09:06:22.712139207Z"
    }
   }
  },
  {
   "cell_type": "code",
   "execution_count": 59,
   "outputs": [
    {
     "ename": "NameError",
     "evalue": "name 'Messages' is not defined",
     "output_type": "error",
     "traceback": [
      "\u001B[0;31m---------------------------------------------------------------------------\u001B[0m",
      "\u001B[0;31mNameError\u001B[0m                                 Traceback (most recent call last)",
      "Cell \u001B[0;32mIn[59], line 1\u001B[0m\n\u001B[0;32m----> 1\u001B[0m messages_client \u001B[38;5;241m=\u001B[39m \u001B[43mMessages\u001B[49m(config)\n",
      "\u001B[0;31mNameError\u001B[0m: name 'Messages' is not defined"
     ]
    }
   ],
   "source": [
    "messages_client = Messages(config)"
   ],
   "metadata": {
    "collapsed": false,
    "ExecuteTime": {
     "end_time": "2023-12-22T09:06:24.923295050Z",
     "start_time": "2023-12-22T09:06:24.913058300Z"
    }
   }
  },
  {
   "cell_type": "code",
   "execution_count": 60,
   "outputs": [],
   "source": [
    "conversations_client = Conversations(config)"
   ],
   "metadata": {
    "collapsed": false,
    "ExecuteTime": {
     "end_time": "2023-12-22T09:06:27.170974805Z",
     "start_time": "2023-12-22T09:06:27.160076117Z"
    }
   }
  },
  {
   "cell_type": "code",
   "execution_count": 61,
   "outputs": [
    {
     "name": "stdout",
     "output_type": "stream",
     "text": [
      "Error: name 'your_account_id' is not defined\n",
      "Error: name 'your_account_id' is not defined\n",
      "Error: name 'your_account_id' is not defined\n"
     ]
    }
   ],
   "source": [
    "import requests\n",
    "\n",
    "class Conversations:\n",
    "    def __init__(self, config):\n",
    "        self.config = config\n",
    "\n",
    "    def get_meta(self, account_id, status=\"open\", q=None, inbox_id=None, team_id=None, labels=None):\n",
    "        url = f\"/api/v1/accounts/{account_id}/conversations/meta\"\n",
    "        params = {\n",
    "            \"status\": status,\n",
    "            \"q\": q,\n",
    "            \"inbox_id\": inbox_id,\n",
    "            \"team_id\": team_id,\n",
    "            \"labels\": labels,\n",
    "        }\n",
    "\n",
    "        return self.__request(\"GET\", url, params=params, errors={400: \"Bad Request Error\"})\n",
    "\n",
    "    def list_conversations(self, account_id, assignee_type=\"all\", status=\"open\", q=None, inbox_id=None, team_id=None, labels=None, page=1):\n",
    "        url = f\"/api/v1/accounts/{account_id}/conversations\"\n",
    "        params = {\n",
    "            \"assignee_type\": assignee_type,\n",
    "            \"status\": status,\n",
    "            \"q\": q,\n",
    "            \"inbox_id\": inbox_id,\n",
    "            \"team_id\": team_id,\n",
    "            \"labels\": labels,\n",
    "            \"page\": page,\n",
    "        }\n",
    "\n",
    "        return self.__request(\"GET\", url, params=params, errors={400: \"Bad Request Error\"})\n",
    "\n",
    "    def create_conversation(self, account_id, data):\n",
    "        url = f\"/api/v1/accounts/{account_id}/conversations\"\n",
    "        return self.__request(\"POST\", url, body=data, errors={403: \"Access denied\"})\n",
    "\n",
    "    def filter_conversations(self, account_id, payload, page=None):\n",
    "        url = f\"/api/v1/accounts/{account_id}/conversations/filter\"\n",
    "        params = {\"page\": page}\n",
    "        return self.__request(\"POST\", url, params=params, body={\"payload\": payload}, errors={400: \"Bad Request Error\"})\n",
    "\n",
    "    def get_conversation_details(self, account_id, conversation_id):\n",
    "        url = f\"/api/v1/accounts/{account_id}/conversations/{conversation_id}\"\n",
    "        return self.__request(\"GET\", url, errors={403: \"Access denied\", 404: \"Conversation not found\"})\n",
    "\n",
    "    def toggle_status(self, account_id, conversation_id, data):\n",
    "        url = f\"/api/v1/accounts/{account_id}/conversations/{conversation_id}/toggle_status\"\n",
    "        return self.__request(\"POST\", url, body=data, errors={401: \"Unauthorized\", 404: \"Conversation not found\"})\n",
    "\n",
    "    def __request(self, method, url, params=None, body=None, errors=None):\n",
    "        full_url = f\"{self.config.base_url}{url}\"\n",
    "        # headers = {\"Content-Type\": \"application/json\"}\n",
    "\n",
    "        # response = requests.request(method, full_url, params=params, json=body, headers=headers)\n",
    "        response = session.request(method, full_url, params=params, json=body)\n",
    "\n",
    "        if response.status_code in errors:\n",
    "            raise Exception(errors[response.status_code])\n",
    "        elif response.status_code == 200:\n",
    "            return response.json()\n",
    "        else:\n",
    "            raise Exception(f\"Unexpected error: {response.status_code}\")\n",
    "\n",
    "# Ejemplo de uso del cliente Chatwoot\n",
    "config = {\"base_url\": \"https://your-chatwoot-instance.com\"}\n",
    "chatwoot_client = Conversations(config)\n",
    "\n",
    "# Obtener meta de conversaciones\n",
    "try:\n",
    "    result = chatwoot_client.get_meta(account_id=your_account_id)\n",
    "    print(\"Meta de conversaciones:\", result)\n",
    "except Exception as e:\n",
    "    print(\"Error:\", str(e))\n",
    "\n",
    "# Listar conversaciones\n",
    "try:\n",
    "    result = chatwoot_client.list_conversations(account_id=your_account_id)\n",
    "    print(\"Lista de conversaciones:\", result)\n",
    "except Exception as e:\n",
    "    print(\"Error:\", str(e))\n",
    "\n",
    "# Crear nueva conversación\n",
    "conversation_data = {\"source_id\": \"your_source_id\", \"inbox_id\": \"your_inbox_id\", \"contact_id\": \"your_contact_id\"}\n",
    "try:\n",
    "    result = chatwoot_client.create_conversation(account_id=your_account_id, data=conversation_data)\n",
    "    print(\"Conversación creada:\", result)\n",
    "except Exception as e:\n",
    "    print(\"Error:\", str(e))\n"
   ],
   "metadata": {
    "collapsed": false,
    "ExecuteTime": {
     "end_time": "2023-12-22T09:06:28.789789941Z",
     "start_time": "2023-12-22T09:06:28.773199973Z"
    }
   }
  },
  {
   "cell_type": "code",
   "execution_count": 62,
   "outputs": [
    {
     "data": {
      "text/plain": "{'data': {'meta': {'mine_count': 0,\n   'assigned_count': 0,\n   'unassigned_count': 0,\n   'all_count': 0},\n  'payload': []}}"
     },
     "execution_count": 62,
     "metadata": {},
     "output_type": "execute_result"
    }
   ],
   "source": [
    "conversations_client.list_conversations(account_id=2)"
   ],
   "metadata": {
    "collapsed": false,
    "ExecuteTime": {
     "end_time": "2023-12-22T09:06:31.972027755Z",
     "start_time": "2023-12-22T09:06:30.615154118Z"
    }
   }
  },
  {
   "cell_type": "code",
   "execution_count": 67,
   "outputs": [],
   "source": [
    "chatwoot_config = ChatwootConfig(base_url=\"https://chat.vecinos.com.ar\")"
   ],
   "metadata": {
    "collapsed": false,
    "ExecuteTime": {
     "end_time": "2023-12-22T09:09:34.857302145Z",
     "start_time": "2023-12-22T09:09:34.809935680Z"
    }
   }
  },
  {
   "cell_type": "code",
   "execution_count": 63,
   "outputs": [
    {
     "data": {
      "text/plain": "{'meta': {'sender': {'additional_attributes': {},\n   'availability_status': 'offline',\n   'email': None,\n   'id': 4,\n   'name': 'Ernesto',\n   'phone_number': '+5491136206603',\n   'identifier': '5491136206603@s.whatsapp.net',\n   'thumbnail': 'http://chat.vecinos.com.ar/rails/active_storage/representations/redirect/eyJfcmFpbHMiOnsibWVzc2FnZSI6IkJBaHBNdz09IiwiZXhwIjpudWxsLCJwdXIiOiJibG9iX2lkIn19--b23c07b05ca392a8419fc5728f4222e2c12f2c1f/eyJfcmFpbHMiOnsibWVzc2FnZSI6IkJBaDdCem9MWm05eWJXRjBTU0lKYW5CbFp3WTZCa1ZVT2hOeVpYTnBlbVZmZEc5ZlptbHNiRnNIYVFINk1BPT0iLCJleHAiOm51bGwsInB1ciI6InZhcmlhdGlvbiJ9fQ==--5f3375fec9a9cd47682f6a1c0ccf7a892184cef2/file.enc',\n   'custom_attributes': {},\n   'last_activity_at': 1702303040,\n   'created_at': 1702303038},\n  'channel': 'Channel::Api',\n  'hmac_verified': False},\n 'id': 11,\n 'messages': [],\n 'account_id': 2,\n 'uuid': '8191efc2-985f-486e-8538-d1be01c1253d',\n 'additional_attributes': {},\n 'agent_last_seen_at': 0,\n 'assignee_last_seen_at': 0,\n 'can_reply': True,\n 'contact_last_seen_at': 0,\n 'custom_attributes': {},\n 'inbox_id': 1,\n 'labels': [],\n 'muted': False,\n 'snoozed_until': None,\n 'status': 'open',\n 'created_at': 1703236046,\n 'timestamp': 1703236046,\n 'first_reply_created_at': 0,\n 'unread_count': 0,\n 'last_non_activity_message': None,\n 'last_activity_at': 1703236046,\n 'priority': None,\n 'waiting_since': 1703236046}"
     },
     "execution_count": 63,
     "metadata": {},
     "output_type": "execute_result"
    }
   ],
   "source": [
    "conversations_client.create_conversation(account_id=2, data={\"source_id\": \"+5491136206603\", \"inbox_id\": 1, \"contact_id\": 4})"
   ],
   "metadata": {
    "collapsed": false,
    "ExecuteTime": {
     "end_time": "2023-12-22T09:07:26.830836780Z",
     "start_time": "2023-12-22T09:07:25.695630038Z"
    }
   }
  },
  {
   "cell_type": "markdown",
   "source": [],
   "metadata": {
    "collapsed": false
   }
  },
  {
   "cell_type": "code",
   "execution_count": 55,
   "outputs": [
    {
     "ename": "NameError",
     "evalue": "name 'chatwoot_config' is not defined",
     "output_type": "error",
     "traceback": [
      "\u001B[0;31m---------------------------------------------------------------------------\u001B[0m",
      "\u001B[0;31mNameError\u001B[0m                                 Traceback (most recent call last)",
      "Cell \u001B[0;32mIn[55], line 1\u001B[0m\n\u001B[0;32m----> 1\u001B[0m conversations_client \u001B[38;5;241m=\u001B[39m Conversations(\u001B[43mchatwoot_config\u001B[49m)\n",
      "\u001B[0;31mNameError\u001B[0m: name 'chatwoot_config' is not defined"
     ]
    }
   ],
   "source": [
    "conversations_client = Conversations(chatwoot_config)"
   ],
   "metadata": {
    "collapsed": false,
    "ExecuteTime": {
     "end_time": "2023-12-22T09:06:02.896459284Z",
     "start_time": "2023-12-22T09:06:02.883771472Z"
    }
   }
  },
  {
   "cell_type": "code",
   "execution_count": 142,
   "outputs": [
    {
     "data": {
      "text/plain": "{'data': {'meta': {'mine_count': 3,\n   'assigned_count': 3,\n   'unassigned_count': 2,\n   'all_count': 5},\n  'payload': [{'meta': {'sender': {'additional_attributes': {},\n      'availability_status': 'offline',\n      'email': None,\n      'id': 4,\n      'name': 'Ernesto',\n      'phone_number': '+5491136206603',\n      'identifier': '5491136206603@s.whatsapp.net',\n      'thumbnail': 'http://chat.vecinos.com.ar/rails/active_storage/representations/redirect/eyJfcmFpbHMiOnsibWVzc2FnZSI6IkJBaHBNdz09IiwiZXhwIjpudWxsLCJwdXIiOiJibG9iX2lkIn19--b23c07b05ca392a8419fc5728f4222e2c12f2c1f/eyJfcmFpbHMiOnsibWVzc2FnZSI6IkJBaDdCem9MWm05eWJXRjBTU0lKYW5CbFp3WTZCa1ZVT2hOeVpYTnBlbVZmZEc5ZlptbHNiRnNIYVFINk1BPT0iLCJleHAiOm51bGwsInB1ciI6InZhcmlhdGlvbiJ9fQ==--5f3375fec9a9cd47682f6a1c0ccf7a892184cef2/file.enc',\n      'custom_attributes': {},\n      'last_activity_at': 1702303040,\n      'created_at': 1702303038},\n     'channel': 'Channel::Api',\n     'assignee': {'id': 2,\n      'account_id': 2,\n      'availability_status': 'offline',\n      'auto_offline': True,\n      'confirmed': True,\n      'email': 'e7canasta@gmail.com',\n      'available_name': 'Gaby',\n      'name': 'Gabriel Simionato',\n      'role': 'administrator',\n      'thumbnail': ''},\n     'team': {'id': 1,\n      'name': 'lanus',\n      'description': 'Equipo de lanus',\n      'allow_auto_assign': True,\n      'account_id': 2,\n      'is_member': True},\n     'hmac_verified': False},\n    'id': 10,\n    'messages': [],\n    'account_id': 2,\n    'uuid': '761ff4ab-8365-49ff-a738-d36527399fe5',\n    'additional_attributes': {'place_id': '1234', 'municipio': 'lanus'},\n    'agent_last_seen_at': 0,\n    'assignee_last_seen_at': 0,\n    'can_reply': True,\n    'contact_last_seen_at': 0,\n    'custom_attributes': {},\n    'inbox_id': 1,\n    'labels': [],\n    'muted': False,\n    'snoozed_until': None,\n    'status': 'open',\n    'created_at': 1702734016,\n    'timestamp': 1702734016,\n    'first_reply_created_at': 0,\n    'unread_count': 0,\n    'last_non_activity_message': None,\n    'last_activity_at': 1702734016,\n    'priority': None,\n    'waiting_since': 1702734016},\n   {'meta': {'sender': {'additional_attributes': {},\n      'availability_status': 'offline',\n      'email': None,\n      'id': 4,\n      'name': 'Ernesto',\n      'phone_number': '+5491136206603',\n      'identifier': '5491136206603@s.whatsapp.net',\n      'thumbnail': 'http://chat.vecinos.com.ar/rails/active_storage/representations/redirect/eyJfcmFpbHMiOnsibWVzc2FnZSI6IkJBaHBNdz09IiwiZXhwIjpudWxsLCJwdXIiOiJibG9iX2lkIn19--b23c07b05ca392a8419fc5728f4222e2c12f2c1f/eyJfcmFpbHMiOnsibWVzc2FnZSI6IkJBaDdCem9MWm05eWJXRjBTU0lKYW5CbFp3WTZCa1ZVT2hOeVpYTnBlbVZmZEc5ZlptbHNiRnNIYVFINk1BPT0iLCJleHAiOm51bGwsInB1ciI6InZhcmlhdGlvbiJ9fQ==--5f3375fec9a9cd47682f6a1c0ccf7a892184cef2/file.enc',\n      'custom_attributes': {},\n      'last_activity_at': 1702303040,\n      'created_at': 1702303038},\n     'channel': 'Channel::Api',\n     'team': {'id': 1,\n      'name': 'lanus',\n      'description': 'Equipo de lanus',\n      'allow_auto_assign': True,\n      'account_id': 2,\n      'is_member': True},\n     'hmac_verified': False},\n    'id': 9,\n    'messages': [],\n    'account_id': 2,\n    'uuid': 'b9a34c98-38aa-4dbb-89e7-39c8016b47ef',\n    'additional_attributes': {'place_id': '1234', 'municipio': 'lanus'},\n    'agent_last_seen_at': 1702733979,\n    'assignee_last_seen_at': 0,\n    'can_reply': True,\n    'contact_last_seen_at': 0,\n    'custom_attributes': {},\n    'inbox_id': 1,\n    'labels': [],\n    'muted': False,\n    'snoozed_until': None,\n    'status': 'open',\n    'created_at': 1702733956,\n    'timestamp': 1702733956,\n    'first_reply_created_at': 0,\n    'unread_count': 0,\n    'last_non_activity_message': None,\n    'last_activity_at': 1702733956,\n    'priority': None,\n    'waiting_since': 1702733956},\n   {'meta': {'sender': {'additional_attributes': {'city': '',\n       'country': 'Argentina',\n       'description': '',\n       'company_name': '',\n       'country_code': 'AR',\n       'social_profiles': {'github': '',\n        'twitter': '',\n        'facebook': '',\n        'linkedin': '',\n        'instagram': ''}},\n      'availability_status': 'offline',\n      'email': None,\n      'id': 7,\n      'name': 'Ernesto Simionato',\n      'phone_number': '+5491162954760',\n      'identifier': None,\n      'thumbnail': '',\n      'custom_attributes': {},\n      'created_at': 1702709617},\n     'channel': 'Channel::Api',\n     'assignee': {'id': 2,\n      'account_id': 2,\n      'availability_status': 'offline',\n      'auto_offline': True,\n      'confirmed': True,\n      'email': 'e7canasta@gmail.com',\n      'available_name': 'Gaby',\n      'name': 'Gabriel Simionato',\n      'role': 'administrator',\n      'thumbnail': ''},\n     'team': {'id': 2,\n      'name': 'benavidez',\n      'description': '',\n      'allow_auto_assign': True,\n      'account_id': 2,\n      'is_member': True},\n     'hmac_verified': False},\n    'id': 7,\n    'messages': [{'id': 38,\n      'content': 'Gabriel Simionato estableció la prioridad a urgent',\n      'account_id': 2,\n      'inbox_id': 1,\n      'conversation_id': 7,\n      'message_type': 2,\n      'created_at': 1702709982,\n      'updated_at': '2023-12-16T06:59:42.218Z',\n      'private': False,\n      'status': 'sent',\n      'source_id': None,\n      'content_type': 'text',\n      'content_attributes': {},\n      'sender_type': None,\n      'sender_id': None,\n      'external_source_ids': {},\n      'additional_attributes': {},\n      'processed_message_content': 'Gabriel Simionato estableció la prioridad a urgent',\n      'sentiment': {},\n      'conversation': {'assignee_id': 2,\n       'unread_count': 0,\n       'last_activity_at': 1702709982,\n       'contact_inbox': {'source_id': '6b8d1576-bdb7-4eac-adac-63943cf88350'}}}],\n    'account_id': 2,\n    'uuid': '5b0f3af7-a1e2-4782-bc12-c147a59041e9',\n    'additional_attributes': {'mail_subject': ''},\n    'agent_last_seen_at': 1702733984,\n    'assignee_last_seen_at': 1702733984,\n    'can_reply': True,\n    'contact_last_seen_at': 0,\n    'custom_attributes': {},\n    'inbox_id': 1,\n    'labels': [],\n    'muted': False,\n    'snoozed_until': None,\n    'status': 'open',\n    'created_at': 1702709944,\n    'timestamp': 1702709982,\n    'first_reply_created_at': 1702709944,\n    'unread_count': 0,\n    'last_non_activity_message': {'id': 36,\n     'content': 'Bienvenido a alerta pba',\n     'account_id': 2,\n     'inbox_id': 1,\n     'conversation_id': 7,\n     'message_type': 1,\n     'created_at': 1702709944,\n     'updated_at': '2023-12-16T06:59:04.337Z',\n     'private': False,\n     'status': 'sent',\n     'source_id': None,\n     'content_type': 'text',\n     'content_attributes': {},\n     'sender_type': 'User',\n     'sender_id': 2,\n     'external_source_ids': {},\n     'additional_attributes': {},\n     'processed_message_content': 'Bienvenido a alerta pba',\n     'sentiment': {},\n     'conversation': {'assignee_id': 2,\n      'unread_count': 0,\n      'last_activity_at': 1702709982,\n      'contact_inbox': {'source_id': '6b8d1576-bdb7-4eac-adac-63943cf88350'}},\n     'sender': {'id': 2,\n      'name': 'Gabriel Simionato',\n      'available_name': 'Gaby',\n      'avatar_url': '',\n      'type': 'user',\n      'availability_status': 'offline',\n      'thumbnail': ''}},\n    'last_activity_at': 1702709982,\n    'priority': 'urgent',\n    'waiting_since': 0},\n   {'meta': {'sender': {'additional_attributes': {'city': 'Lanus',\n       'country': 'Argentina',\n       'description': '',\n       'company_name': '',\n       'country_code': 'AR',\n       'social_profiles': {'github': '',\n        'twitter': '',\n        'facebook': '',\n        'linkedin': '',\n        'instagram': ''}},\n      'availability_status': 'offline',\n      'email': None,\n      'id': 6,\n      'name': 'Ernesto PBA',\n      'phone_number': '+5491128835917',\n      'identifier': None,\n      'thumbnail': '',\n      'custom_attributes': {},\n      'created_at': 1702709409},\n     'channel': 'Channel::Api',\n     'assignee': {'id': 2,\n      'account_id': 2,\n      'availability_status': 'offline',\n      'auto_offline': True,\n      'confirmed': True,\n      'email': 'e7canasta@gmail.com',\n      'available_name': 'Gaby',\n      'name': 'Gabriel Simionato',\n      'role': 'administrator',\n      'thumbnail': ''},\n     'team': {'id': 1,\n      'name': 'lanus',\n      'description': 'Equipo de lanus',\n      'allow_auto_assign': True,\n      'account_id': 2,\n      'is_member': True},\n     'hmac_verified': False},\n    'id': 6,\n    'messages': [{'id': 35,\n      'content': 'Asignado a lanus por Gabriel Simionato',\n      'account_id': 2,\n      'inbox_id': 1,\n      'conversation_id': 6,\n      'message_type': 2,\n      'created_at': 1702709821,\n      'updated_at': '2023-12-16T06:57:01.363Z',\n      'private': False,\n      'status': 'sent',\n      'source_id': None,\n      'content_type': 'text',\n      'content_attributes': {},\n      'sender_type': None,\n      'sender_id': None,\n      'external_source_ids': {},\n      'additional_attributes': {},\n      'processed_message_content': 'Asignado a lanus por Gabriel Simionato',\n      'sentiment': {},\n      'conversation': {'assignee_id': 2,\n       'unread_count': 0,\n       'last_activity_at': 1702709821,\n       'contact_inbox': {'source_id': 'ea221075-7108-40d3-9fcb-1213427bee5b'}}}],\n    'account_id': 2,\n    'uuid': '4740eed7-729e-42d1-80aa-a593ca5ed617',\n    'additional_attributes': {'mail_subject': ''},\n    'agent_last_seen_at': 1702733013,\n    'assignee_last_seen_at': 1702733013,\n    'can_reply': True,\n    'contact_last_seen_at': 0,\n    'custom_attributes': {},\n    'inbox_id': 1,\n    'labels': [],\n    'muted': False,\n    'snoozed_until': None,\n    'status': 'open',\n    'created_at': 1702709523,\n    'timestamp': 1702709821,\n    'first_reply_created_at': 1702709523,\n    'unread_count': 0,\n    'last_non_activity_message': {'id': 34,\n     'content': 'hola vecino\\r\\n',\n     'account_id': 2,\n     'inbox_id': 1,\n     'conversation_id': 6,\n     'message_type': 1,\n     'created_at': 1702709523,\n     'updated_at': '2023-12-16T06:52:03.936Z',\n     'private': False,\n     'status': 'sent',\n     'source_id': None,\n     'content_type': 'text',\n     'content_attributes': {},\n     'sender_type': 'User',\n     'sender_id': 2,\n     'external_source_ids': {},\n     'additional_attributes': {},\n     'processed_message_content': 'hola vecino\\r\\n',\n     'sentiment': {},\n     'conversation': {'assignee_id': 2,\n      'unread_count': 0,\n      'last_activity_at': 1702709821,\n      'contact_inbox': {'source_id': 'ea221075-7108-40d3-9fcb-1213427bee5b'}},\n     'sender': {'id': 2,\n      'name': 'Gabriel Simionato',\n      'available_name': 'Gaby',\n      'avatar_url': '',\n      'type': 'user',\n      'availability_status': 'offline',\n      'thumbnail': ''}},\n    'last_activity_at': 1702709821,\n    'priority': None,\n    'waiting_since': 0},\n   {'meta': {'sender': {'additional_attributes': {},\n      'availability_status': 'offline',\n      'email': None,\n      'id': 5,\n      'name': 'Estela Sagrich',\n      'phone_number': '+5491148704436',\n      'identifier': '5491148704436@s.whatsapp.net',\n      'thumbnail': 'http://chat.vecinos.com.ar/rails/active_storage/representations/redirect/eyJfcmFpbHMiOnsibWVzc2FnZSI6IkJBaHBOZz09IiwiZXhwIjpudWxsLCJwdXIiOiJibG9iX2lkIn19--0f260d867d32580999462cf124adc072e57c6040/eyJfcmFpbHMiOnsibWVzc2FnZSI6IkJBaDdCem9MWm05eWJXRjBTU0lKYW5CbFp3WTZCa1ZVT2hOeVpYTnBlbVZmZEc5ZlptbHNiRnNIYVFINk1BPT0iLCJleHAiOm51bGwsInB1ciI6InZhcmlhdGlvbiJ9fQ==--5f3375fec9a9cd47682f6a1c0ccf7a892184cef2/file.enc',\n      'custom_attributes': {},\n      'last_activity_at': 1702685391,\n      'created_at': 1702601881},\n     'channel': 'Channel::Api',\n     'hmac_verified': False},\n    'id': 5,\n    'messages': [{'id': 33,\n      'content': None,\n      'account_id': 2,\n      'inbox_id': 1,\n      'conversation_id': 5,\n      'message_type': 0,\n      'created_at': 1702685391,\n      'updated_at': '2023-12-16T00:09:51.693Z',\n      'private': False,\n      'status': 'sent',\n      'source_id': None,\n      'content_type': 'text',\n      'content_attributes': {},\n      'sender_type': 'Contact',\n      'sender_id': 5,\n      'external_source_ids': {},\n      'additional_attributes': {},\n      'processed_message_content': None,\n      'sentiment': {},\n      'conversation': {'assignee_id': None,\n       'unread_count': 0,\n       'last_activity_at': 1702685391,\n       'contact_inbox': {'source_id': 'ef14cd7e-cefd-462f-972a-f39869838e41'}},\n      'attachments': [{'id': 14,\n        'message_id': 33,\n        'file_type': 'video',\n        'account_id': 2,\n        'extension': None,\n        'data_url': 'http://chat.vecinos.com.ar/rails/active_storage/blobs/redirect/eyJfcmFpbHMiOnsibWVzc2FnZSI6IkJBaHBOdz09IiwiZXhwIjpudWxsLCJwdXIiOiJibG9iX2lkIn19--d04200ed0cbfb9dd0dbb3d384feaa603223c2691/i35i9b.mp4',\n        'thumb_url': '',\n        'file_size': 423901}],\n      'sender': {'additional_attributes': {},\n       'custom_attributes': {},\n       'email': None,\n       'id': 5,\n       'identifier': '5491148704436@s.whatsapp.net',\n       'name': 'Estela Sagrich',\n       'phone_number': '+5491148704436',\n       'thumbnail': 'http://chat.vecinos.com.ar/rails/active_storage/representations/redirect/eyJfcmFpbHMiOnsibWVzc2FnZSI6IkJBaHBOZz09IiwiZXhwIjpudWxsLCJwdXIiOiJibG9iX2lkIn19--0f260d867d32580999462cf124adc072e57c6040/eyJfcmFpbHMiOnsibWVzc2FnZSI6IkJBaDdCem9MWm05eWJXRjBTU0lKYW5CbFp3WTZCa1ZVT2hOeVpYTnBlbVZmZEc5ZlptbHNiRnNIYVFINk1BPT0iLCJleHAiOm51bGwsInB1ciI6InZhcmlhdGlvbiJ9fQ==--5f3375fec9a9cd47682f6a1c0ccf7a892184cef2/file.enc',\n       'type': 'contact'}}],\n    'account_id': 2,\n    'uuid': '2447e08b-2901-4654-88d0-d9929d57ac6d',\n    'additional_attributes': {},\n    'agent_last_seen_at': 1702732129,\n    'assignee_last_seen_at': 0,\n    'can_reply': True,\n    'contact_last_seen_at': 0,\n    'custom_attributes': {},\n    'inbox_id': 1,\n    'labels': [],\n    'muted': False,\n    'snoozed_until': None,\n    'status': 'open',\n    'created_at': 1702601882,\n    'timestamp': 1702685391,\n    'first_reply_created_at': 0,\n    'unread_count': 0,\n    'last_non_activity_message': {'id': 33,\n     'content': None,\n     'account_id': 2,\n     'inbox_id': 1,\n     'conversation_id': 5,\n     'message_type': 0,\n     'created_at': 1702685391,\n     'updated_at': '2023-12-16T00:09:51.693Z',\n     'private': False,\n     'status': 'sent',\n     'source_id': None,\n     'content_type': 'text',\n     'content_attributes': {},\n     'sender_type': 'Contact',\n     'sender_id': 5,\n     'external_source_ids': {},\n     'additional_attributes': {},\n     'processed_message_content': None,\n     'sentiment': {},\n     'conversation': {'assignee_id': None,\n      'unread_count': 0,\n      'last_activity_at': 1702685391,\n      'contact_inbox': {'source_id': 'ef14cd7e-cefd-462f-972a-f39869838e41'}},\n     'attachments': [{'id': 14,\n       'message_id': 33,\n       'file_type': 'video',\n       'account_id': 2,\n       'extension': None,\n       'data_url': 'http://chat.vecinos.com.ar/rails/active_storage/blobs/redirect/eyJfcmFpbHMiOnsibWVzc2FnZSI6IkJBaHBOdz09IiwiZXhwIjpudWxsLCJwdXIiOiJibG9iX2lkIn19--d04200ed0cbfb9dd0dbb3d384feaa603223c2691/i35i9b.mp4',\n       'thumb_url': '',\n       'file_size': 423901}],\n     'sender': {'additional_attributes': {},\n      'custom_attributes': {},\n      'email': None,\n      'id': 5,\n      'identifier': '5491148704436@s.whatsapp.net',\n      'name': 'Estela Sagrich',\n      'phone_number': '+5491148704436',\n      'thumbnail': 'http://chat.vecinos.com.ar/rails/active_storage/representations/redirect/eyJfcmFpbHMiOnsibWVzc2FnZSI6IkJBaHBOZz09IiwiZXhwIjpudWxsLCJwdXIiOiJibG9iX2lkIn19--0f260d867d32580999462cf124adc072e57c6040/eyJfcmFpbHMiOnsibWVzc2FnZSI6IkJBaDdCem9MWm05eWJXRjBTU0lKYW5CbFp3WTZCa1ZVT2hOeVpYTnBlbVZmZEc5ZlptbHNiRnNIYVFINk1BPT0iLCJleHAiOm51bGwsInB1ciI6InZhcmlhdGlvbiJ9fQ==--5f3375fec9a9cd47682f6a1c0ccf7a892184cef2/file.enc',\n      'type': 'contact'}},\n    'last_activity_at': 1702685391,\n    'priority': None,\n    'waiting_since': 1702601882}]}}"
     },
     "execution_count": 142,
     "metadata": {},
     "output_type": "execute_result"
    }
   ],
   "source": [
    "conversations_client.list_conversations(account_id=2)"
   ],
   "metadata": {
    "collapsed": false,
    "ExecuteTime": {
     "end_time": "2023-12-16T14:05:12.778325062Z",
     "start_time": "2023-12-16T14:05:10.936402218Z"
    }
   }
  },
  {
   "cell_type": "code",
   "execution_count": 64,
   "outputs": [
    {
     "name": "stdout",
     "output_type": "stream",
     "text": [
      "Error: name 'your_account_id' is not defined\n",
      "Error: name 'your_account_id' is not defined\n",
      "Error: name 'your_account_id' is not defined\n",
      "Error: name 'your_account_id' is not defined\n"
     ]
    }
   ],
   "source": [
    "import requests\n",
    "from typing import List, Dict, Any\n",
    "from io import BytesIO\n",
    "from requests_toolbelt.multipart.encoder import MultipartEncoder\n",
    "\n",
    "class Messages:\n",
    "    def __init__(self, config):\n",
    "        self.config = config\n",
    "\n",
    "    def list_messages(self, account_id, conversation_id):\n",
    "        url = f\"/api/v1/accounts/{account_id}/conversations/{conversation_id}/messages\"\n",
    "        return self.__request(\"GET\", url, errors={401: \"Unauthorized\", 404: \"Conversation not found\"})\n",
    "\n",
    "    def create_message(self, account_id, conversation_id, data):\n",
    "        url = f\"/api/v1/accounts/{account_id}/conversations/{conversation_id}/messages\"\n",
    "        attachments = data.pop(\"attachments\", None)\n",
    "\n",
    "        files = None\n",
    "        if attachments:\n",
    "            files = []\n",
    "            for attachment in attachments:\n",
    "                content = BytesIO(attachment.get(\"content\").encode(attachment.get(\"encoding\")))\n",
    "                files.append((\"attachments\", (attachment.get(\"filename\"), content)))\n",
    "\n",
    "        return self.__request(\"POST\", url, data=data, files=files, errors={403: \"Access denied\", 404: \"Conversation not found\"})\n",
    "\n",
    "    def update_message(self, account_id, conversation_id, data, message_id):\n",
    "        url = f\"/api/v1/accounts/{account_id}/conversations/{conversation_id}/messages/{message_id}\"\n",
    "        attachments = data.pop(\"attachments\", None)\n",
    "\n",
    "        files = None\n",
    "        if attachments:\n",
    "            files = []\n",
    "            for attachment in attachments:\n",
    "                content = BytesIO(attachment.get(\"content\").encode(attachment.get(\"encoding\")))\n",
    "                files.append((\"attachments\", (attachment.get(\"filename\"), content)))\n",
    "\n",
    "        return self.__request(\"PATCH\", url, data=data, files=files, errors={403: \"Access denied\", 404: \"Conversation not found\"})\n",
    "\n",
    "    def delete_message(self, account_id, conversation_id, message_id):\n",
    "        url = f\"/api/v1/accounts/{account_id}/conversations/{conversation_id}/messages/{message_id}\"\n",
    "        return self.__request(\"DELETE\", url, errors={401: \"Unauthorized\", 404: \"The message or conversation does not exist in the account\"})\n",
    "\n",
    "    def __request(self, method, url, params=None, data=None, files=None, errors=None):\n",
    "        full_url = f\"{self.config.base_url}{url}\"\n",
    "        # headers = {\"Content-Type\": \"application/json\"}\n",
    "\n",
    "        # response = session.request(method, full_url, params=params, data=data, files=files, headers=headers)\n",
    "        response = session.request(method, full_url, params=params, data=data, files=files)\n",
    "\n",
    "        if response.status_code in errors:\n",
    "            raise Exception(errors[response.status_code])\n",
    "        elif response.status_code == 200:\n",
    "            return response.json()\n",
    "        else:\n",
    "            raise Exception(f\"Unexpected error: {response.status_code}\")\n",
    "\n",
    "# Ejemplo de uso del cliente de mensajes de Chatwoot\n",
    "config = {\"base_url\": \"https://your-chatwoot-instance.com\"}\n",
    "messages_client = Messages(config)\n",
    "\n",
    "# Listar mensajes\n",
    "try:\n",
    "    result = messages_client.list_messages(account_id=your_account_id, conversation_id=your_conversation_id)\n",
    "    print(\"Lista de mensajes:\", result)\n",
    "except Exception as e:\n",
    "    print(\"Error:\", str(e))\n",
    "\n",
    "# Crear nuevo mensaje\n",
    "message_data = {\"text\": \"Nuevo mensaje\", \"attachments\": [{\"filename\": \"archivo.txt\", \"content\": \"Contenido del archivo\", \"encoding\": \"utf-8\"}]}\n",
    "try:\n",
    "    result = messages_client.create_message(account_id=your_account_id, conversation_id=your_conversation_id, data=message_data)\n",
    "    print(\"Mensaje creado:\", result)\n",
    "except Exception as e:\n",
    "    print(\"Error:\", str(e))\n",
    "\n",
    "# Actualizar mensaje\n",
    "updated_message_data = {\"text\": \"Mensaje actualizado\", \"attachments\": [{\"filename\": \"nuevo_archivo.txt\", \"content\": \"Contenido actualizado\", \"encoding\": \"utf-8\"}]}\n",
    "try:\n",
    "    result = messages_client.update_message(account_id=your_account_id, conversation_id=your_conversation_id, data=updated_message_data, message_id=your_message_id)\n",
    "    print(\"Mensaje actualizado:\", result)\n",
    "except Exception as e:\n",
    "    print(\"Error:\", str(e))\n",
    "\n",
    "# Eliminar mensaje\n",
    "try:\n",
    "    result = messages_client.delete_message(account_id=your_account_id, conversation_id=your_conversation_id, message_id=your_message_id)\n",
    "    print(\"Mensaje eliminado:\", result)\n",
    "except Exception as e:\n",
    "    print(\"Error:\", str(e))\n"
   ],
   "metadata": {
    "collapsed": false,
    "ExecuteTime": {
     "end_time": "2023-12-22T09:09:04.342274091Z",
     "start_time": "2023-12-22T09:09:04.305882633Z"
    }
   }
  },
  {
   "cell_type": "code",
   "execution_count": 68,
   "outputs": [],
   "source": [
    "messages_client = Messages(chatwoot_config)"
   ],
   "metadata": {
    "collapsed": false,
    "ExecuteTime": {
     "end_time": "2023-12-22T09:09:46.692503482Z",
     "start_time": "2023-12-22T09:09:46.681544148Z"
    }
   }
  },
  {
   "cell_type": "code",
   "execution_count": 69,
   "outputs": [
    {
     "data": {
      "text/plain": "{'meta': {'labels': [],\n  'additional_attributes': {},\n  'contact': {'additional_attributes': {},\n   'custom_attributes': {},\n   'email': None,\n   'id': 4,\n   'identifier': '5491136206603@s.whatsapp.net',\n   'name': 'Ernesto',\n   'phone_number': '+5491136206603',\n   'thumbnail': 'http://chat.vecinos.com.ar/rails/active_storage/representations/redirect/eyJfcmFpbHMiOnsibWVzc2FnZSI6IkJBaHBNdz09IiwiZXhwIjpudWxsLCJwdXIiOiJibG9iX2lkIn19--b23c07b05ca392a8419fc5728f4222e2c12f2c1f/eyJfcmFpbHMiOnsibWVzc2FnZSI6IkJBaDdCem9MWm05eWJXRjBTU0lKYW5CbFp3WTZCa1ZVT2hOeVpYTnBlbVZmZEc5ZlptbHNiRnNIYVFINk1BPT0iLCJleHAiOm51bGwsInB1ciI6InZhcmlhdGlvbiJ9fQ==--5f3375fec9a9cd47682f6a1c0ccf7a892184cef2/file.enc',\n   'type': 'contact'},\n  'agent_last_seen_at': '2023-12-22T09:07:36.518Z',\n  'assignee_last_seen_at': None},\n 'payload': []}"
     },
     "execution_count": 69,
     "metadata": {},
     "output_type": "execute_result"
    }
   ],
   "source": [
    "messages_client.list_messages(account_id=2, conversation_id=11)"
   ],
   "metadata": {
    "collapsed": false,
    "ExecuteTime": {
     "end_time": "2023-12-22T09:10:18.554147264Z",
     "start_time": "2023-12-22T09:10:17.220221798Z"
    }
   }
  },
  {
   "cell_type": "code",
   "execution_count": 70,
   "outputs": [
    {
     "ename": "Exception",
     "evalue": "Unexpected error: 400",
     "output_type": "error",
     "traceback": [
      "\u001B[0;31m---------------------------------------------------------------------------\u001B[0m",
      "\u001B[0;31mException\u001B[0m                                 Traceback (most recent call last)",
      "Cell \u001B[0;32mIn[70], line 3\u001B[0m\n\u001B[1;32m      1\u001B[0m message_data \u001B[38;5;241m=\u001B[39m {\u001B[38;5;124m\"\u001B[39m\u001B[38;5;124mtext\u001B[39m\u001B[38;5;124m\"\u001B[39m: \u001B[38;5;124m\"\u001B[39m\u001B[38;5;124mNuevo mensaje\u001B[39m\u001B[38;5;124m\"\u001B[39m, \u001B[38;5;124m\"\u001B[39m\u001B[38;5;124mattachments\u001B[39m\u001B[38;5;124m\"\u001B[39m: []}\n\u001B[0;32m----> 3\u001B[0m \u001B[43mmessages_client\u001B[49m\u001B[38;5;241;43m.\u001B[39;49m\u001B[43mcreate_message\u001B[49m\u001B[43m(\u001B[49m\u001B[43maccount_id\u001B[49m\u001B[38;5;241;43m=\u001B[39;49m\u001B[38;5;241;43m2\u001B[39;49m\u001B[43m,\u001B[49m\u001B[43m \u001B[49m\u001B[43mconversation_id\u001B[49m\u001B[38;5;241;43m=\u001B[39;49m\u001B[38;5;241;43m11\u001B[39;49m\u001B[43m,\u001B[49m\u001B[43m \u001B[49m\u001B[43mdata\u001B[49m\u001B[38;5;241;43m=\u001B[39;49m\u001B[43m{\u001B[49m\u001B[38;5;124;43m\"\u001B[39;49m\u001B[38;5;124;43mtext\u001B[39;49m\u001B[38;5;124;43m\"\u001B[39;49m\u001B[43m:\u001B[49m\u001B[43m \u001B[49m\u001B[38;5;124;43m\"\u001B[39;49m\u001B[38;5;124;43mNuevo mensaje\u001B[39;49m\u001B[38;5;124;43m\"\u001B[39;49m\u001B[43m}\u001B[49m\u001B[43m)\u001B[49m\n",
      "Cell \u001B[0;32mIn[64], line 25\u001B[0m, in \u001B[0;36mMessages.create_message\u001B[0;34m(self, account_id, conversation_id, data)\u001B[0m\n\u001B[1;32m     22\u001B[0m         content \u001B[38;5;241m=\u001B[39m BytesIO(attachment\u001B[38;5;241m.\u001B[39mget(\u001B[38;5;124m\"\u001B[39m\u001B[38;5;124mcontent\u001B[39m\u001B[38;5;124m\"\u001B[39m)\u001B[38;5;241m.\u001B[39mencode(attachment\u001B[38;5;241m.\u001B[39mget(\u001B[38;5;124m\"\u001B[39m\u001B[38;5;124mencoding\u001B[39m\u001B[38;5;124m\"\u001B[39m)))\n\u001B[1;32m     23\u001B[0m         files\u001B[38;5;241m.\u001B[39mappend((\u001B[38;5;124m\"\u001B[39m\u001B[38;5;124mattachments\u001B[39m\u001B[38;5;124m\"\u001B[39m, (attachment\u001B[38;5;241m.\u001B[39mget(\u001B[38;5;124m\"\u001B[39m\u001B[38;5;124mfilename\u001B[39m\u001B[38;5;124m\"\u001B[39m), content)))\n\u001B[0;32m---> 25\u001B[0m \u001B[38;5;28;01mreturn\u001B[39;00m \u001B[38;5;28;43mself\u001B[39;49m\u001B[38;5;241;43m.\u001B[39;49m\u001B[43m__request\u001B[49m\u001B[43m(\u001B[49m\u001B[38;5;124;43m\"\u001B[39;49m\u001B[38;5;124;43mPOST\u001B[39;49m\u001B[38;5;124;43m\"\u001B[39;49m\u001B[43m,\u001B[49m\u001B[43m \u001B[49m\u001B[43murl\u001B[49m\u001B[43m,\u001B[49m\u001B[43m \u001B[49m\u001B[43mdata\u001B[49m\u001B[38;5;241;43m=\u001B[39;49m\u001B[43mdata\u001B[49m\u001B[43m,\u001B[49m\u001B[43m \u001B[49m\u001B[43mfiles\u001B[49m\u001B[38;5;241;43m=\u001B[39;49m\u001B[43mfiles\u001B[49m\u001B[43m,\u001B[49m\u001B[43m \u001B[49m\u001B[43merrors\u001B[49m\u001B[38;5;241;43m=\u001B[39;49m\u001B[43m{\u001B[49m\u001B[38;5;241;43m403\u001B[39;49m\u001B[43m:\u001B[49m\u001B[43m \u001B[49m\u001B[38;5;124;43m\"\u001B[39;49m\u001B[38;5;124;43mAccess denied\u001B[39;49m\u001B[38;5;124;43m\"\u001B[39;49m\u001B[43m,\u001B[49m\u001B[43m \u001B[49m\u001B[38;5;241;43m404\u001B[39;49m\u001B[43m:\u001B[49m\u001B[43m \u001B[49m\u001B[38;5;124;43m\"\u001B[39;49m\u001B[38;5;124;43mConversation not found\u001B[39;49m\u001B[38;5;124;43m\"\u001B[39;49m\u001B[43m}\u001B[49m\u001B[43m)\u001B[49m\n",
      "Cell \u001B[0;32mIn[64], line 56\u001B[0m, in \u001B[0;36mMessages.__request\u001B[0;34m(self, method, url, params, data, files, errors)\u001B[0m\n\u001B[1;32m     54\u001B[0m     \u001B[38;5;28;01mreturn\u001B[39;00m response\u001B[38;5;241m.\u001B[39mjson()\n\u001B[1;32m     55\u001B[0m \u001B[38;5;28;01melse\u001B[39;00m:\n\u001B[0;32m---> 56\u001B[0m     \u001B[38;5;28;01mraise\u001B[39;00m \u001B[38;5;167;01mException\u001B[39;00m(\u001B[38;5;124mf\u001B[39m\u001B[38;5;124m\"\u001B[39m\u001B[38;5;124mUnexpected error: \u001B[39m\u001B[38;5;132;01m{\u001B[39;00mresponse\u001B[38;5;241m.\u001B[39mstatus_code\u001B[38;5;132;01m}\u001B[39;00m\u001B[38;5;124m\"\u001B[39m)\n",
      "\u001B[0;31mException\u001B[0m: Unexpected error: 400"
     ]
    }
   ],
   "source": [
    "message_data = {\"text\": \"Nuevo mensaje\", \"attachments\": []}\n",
    "\n",
    "messages_client.create_message(account_id=2, conversation_id=11, data={\"text\": \"Nuevo mensaje\"})"
   ],
   "metadata": {
    "collapsed": false,
    "ExecuteTime": {
     "end_time": "2023-12-22T09:10:32.469579567Z",
     "start_time": "2023-12-22T09:10:31.698150754Z"
    }
   }
  },
  {
   "cell_type": "code",
   "execution_count": 73,
   "outputs": [],
   "source": [
    "url= \"/api/v1/accounts/{account_id}/conversations/{conversation_id}/messages\"\n"
   ],
   "metadata": {
    "collapsed": false,
    "ExecuteTime": {
     "end_time": "2023-12-22T09:11:17.056135678Z",
     "start_time": "2023-12-22T09:11:17.046676035Z"
    }
   }
  },
  {
   "cell_type": "code",
   "execution_count": 74,
   "outputs": [],
   "source": [
    "full_url = f\"{chatwoot_config.base_url}{url}\""
   ],
   "metadata": {
    "collapsed": false,
    "ExecuteTime": {
     "end_time": "2023-12-22T09:11:17.547537368Z",
     "start_time": "2023-12-22T09:11:17.538717259Z"
    }
   }
  },
  {
   "cell_type": "code",
   "execution_count": 75,
   "outputs": [
    {
     "data": {
      "text/plain": "'https://chat.vecinos.com.ar/api/v1/accounts/2/conversations/11/messages'"
     },
     "execution_count": 75,
     "metadata": {},
     "output_type": "execute_result"
    }
   ],
   "source": [
    "full_url.format(account_id=2, conversation_id=11)"
   ],
   "metadata": {
    "collapsed": false,
    "ExecuteTime": {
     "end_time": "2023-12-22T09:11:18.037384581Z",
     "start_time": "2023-12-22T09:11:17.986284124Z"
    }
   }
  },
  {
   "cell_type": "code",
   "execution_count": 76,
   "outputs": [],
   "source": [
    "response = session.request(\"POST\", full_url.format(account_id=2, conversation_id=11), data={\"content\": \"Nuevo mensaje\"})"
   ],
   "metadata": {
    "collapsed": false,
    "ExecuteTime": {
     "end_time": "2023-12-22T09:11:19.503097090Z",
     "start_time": "2023-12-22T09:11:18.794200645Z"
    }
   }
  },
  {
   "cell_type": "code",
   "execution_count": 77,
   "outputs": [
    {
     "data": {
      "text/plain": "400"
     },
     "execution_count": 77,
     "metadata": {},
     "output_type": "execute_result"
    }
   ],
   "source": [
    "\n",
    "response.status_code"
   ],
   "metadata": {
    "collapsed": false,
    "ExecuteTime": {
     "end_time": "2023-12-22T09:11:21.198663166Z",
     "start_time": "2023-12-22T09:11:21.189605490Z"
    }
   }
  },
  {
   "cell_type": "code",
   "execution_count": 78,
   "outputs": [],
   "source": [
    "url = \"{host}/public/{api_version}/inboxes/{inbox_identifier}/contacts/{contact_identifier}/conversations/{conversation_id}/messages\""
   ],
   "metadata": {
    "collapsed": false,
    "ExecuteTime": {
     "end_time": "2023-12-22T09:11:24.026784266Z",
     "start_time": "2023-12-22T09:11:24.017522338Z"
    }
   }
  },
  {
   "cell_type": "code",
   "execution_count": 79,
   "outputs": [
    {
     "data": {
      "text/plain": "'https://chat.vecinos.com.ar/public/api/v1/inboxes/1/contacts/4/conversations/11/messages'"
     },
     "execution_count": 79,
     "metadata": {},
     "output_type": "execute_result"
    }
   ],
   "source": [
    "url.format(host=\"https://chat.vecinos.com.ar\", api_version=\"api/v1\", inbox_identifier=\"1\", contact_identifier=\"4\", conversation_id=\"11\")"
   ],
   "metadata": {
    "collapsed": false,
    "ExecuteTime": {
     "end_time": "2023-12-22T09:11:40.402344113Z",
     "start_time": "2023-12-22T09:11:40.392770208Z"
    }
   }
  },
  {
   "cell_type": "code",
   "execution_count": 80,
   "outputs": [],
   "source": [
    "url = \"{host}/{api_version}/accounts/{account_id}/conversations/{conversation_id}/messages\""
   ],
   "metadata": {
    "collapsed": false,
    "ExecuteTime": {
     "end_time": "2023-12-22T09:11:42.385796677Z",
     "start_time": "2023-12-22T09:11:42.376401604Z"
    }
   }
  },
  {
   "cell_type": "code",
   "execution_count": 81,
   "outputs": [
    {
     "data": {
      "text/plain": "'https://chat.vecinos.com.ar/api/v1/accounts/2/conversations/10/messages'"
     },
     "execution_count": 81,
     "metadata": {},
     "output_type": "execute_result"
    }
   ],
   "source": [
    "url.format(host=\"https://chat.vecinos.com.ar\", api_version=\"api/v1\", account_id=\"2\", conversation_id=\"10\")"
   ],
   "metadata": {
    "collapsed": false,
    "ExecuteTime": {
     "end_time": "2023-12-22T09:11:43.435330512Z",
     "start_time": "2023-12-22T09:11:43.417034576Z"
    }
   }
  },
  {
   "cell_type": "code",
   "execution_count": 82,
   "outputs": [],
   "source": [
    "payload = {\n",
    "    \"content\": \"Nuevo mensaje\",\n",
    "    \"message_type\": \"incoming\"\n",
    "}"
   ],
   "metadata": {
    "collapsed": false,
    "ExecuteTime": {
     "end_time": "2023-12-22T09:11:45.275789747Z",
     "start_time": "2023-12-22T09:11:45.264829233Z"
    }
   }
  },
  {
   "cell_type": "code",
   "execution_count": 83,
   "outputs": [],
   "source": [
    "response = session.request(\"POST\", url.format(host=\"https://chat.vecinos.com.ar\", api_version=\"api/v1\", account_id=\"2\", conversation_id=\"10\"), data=payload)"
   ],
   "metadata": {
    "collapsed": false,
    "ExecuteTime": {
     "end_time": "2023-12-22T09:11:46.471740058Z",
     "start_time": "2023-12-22T09:11:45.780885686Z"
    }
   }
  },
  {
   "cell_type": "code",
   "execution_count": 84,
   "outputs": [
    {
     "data": {
      "text/plain": "400"
     },
     "execution_count": 84,
     "metadata": {},
     "output_type": "execute_result"
    }
   ],
   "source": [
    "response.status_code"
   ],
   "metadata": {
    "collapsed": false,
    "ExecuteTime": {
     "end_time": "2023-12-22T09:11:47.132569839Z",
     "start_time": "2023-12-22T09:11:47.122784853Z"
    }
   }
  },
  {
   "cell_type": "code",
   "execution_count": 85,
   "outputs": [],
   "source": [
    "url = \"https://chat.vecinos.com.ar/api/v1/accounts/2/conversations/10/messages\""
   ],
   "metadata": {
    "collapsed": false,
    "ExecuteTime": {
     "end_time": "2023-12-22T09:11:48.147322881Z",
     "start_time": "2023-12-22T09:11:48.137554757Z"
    }
   }
  },
  {
   "cell_type": "code",
   "execution_count": 86,
   "outputs": [],
   "source": [
    "payload = {\n",
    "\t\"content\": \"Hola Vecino\",\n",
    "\t\"private\": False,\n",
    "\t\"cc_emails\": \"\",\n",
    "\t\"bcc_emails\": \"\",\n",
    "\t\"to_emails\": \"\"\n",
    "}"
   ],
   "metadata": {
    "collapsed": false,
    "ExecuteTime": {
     "end_time": "2023-12-22T09:11:48.710093675Z",
     "start_time": "2023-12-22T09:11:48.699509538Z"
    }
   }
  },
  {
   "cell_type": "code",
   "execution_count": 193,
   "outputs": [],
   "source": [
    "response = session.request(\"POST\", url, json=payload)"
   ],
   "metadata": {
    "collapsed": false,
    "ExecuteTime": {
     "end_time": "2023-12-16T14:27:11.158906876Z",
     "start_time": "2023-12-16T14:27:10.227726844Z"
    }
   }
  },
  {
   "cell_type": "code",
   "execution_count": 194,
   "outputs": [
    {
     "data": {
      "text/plain": "200"
     },
     "execution_count": 194,
     "metadata": {},
     "output_type": "execute_result"
    }
   ],
   "source": [
    "response.status_code"
   ],
   "metadata": {
    "collapsed": false,
    "ExecuteTime": {
     "end_time": "2023-12-16T14:27:11.708748591Z",
     "start_time": "2023-12-16T14:27:11.700039631Z"
    }
   }
  },
  {
   "cell_type": "code",
   "execution_count": 188,
   "outputs": [
    {
     "data": {
      "text/plain": "{'User-Agent': 'python-requests/2.31.0', 'Accept-Encoding': 'gzip, deflate', 'Accept': '*/*', 'Connection': 'keep-alive', 'Accepts': 'application/json,text/plan,*/*', 'Content-Type': 'application/json', 'uid': 'e7canasta@gmail.com', 'token/type': 'Bearer', 'sec-fetch-mode': 'cors', 'access-token': 'ldLoD4BlDu-R2hHyu5Jm_A', 'client': 'WWYCN43iU6-UHFM1yEtq2w'}"
     },
     "execution_count": 188,
     "metadata": {},
     "output_type": "execute_result"
    }
   ],
   "source": [
    "session.headers"
   ],
   "metadata": {
    "collapsed": false,
    "ExecuteTime": {
     "end_time": "2023-12-16T14:23:14.936669348Z",
     "start_time": "2023-12-16T14:23:14.928346577Z"
    }
   }
  },
  {
   "cell_type": "code",
   "execution_count": 87,
   "outputs": [
    {
     "name": "stdout",
     "output_type": "stream",
     "text": [
      "{\"id\":64,\"content\":\"Hola Vecino\",\"inbox_id\":1,\"conversation_id\":11,\"message_type\":1,\"content_type\":\"text\",\"status\":\"sent\",\"content_attributes\":{},\"created_at\":1703236327,\"private\":false,\"source_id\":null,\"sender\":{\"id\":2,\"name\":\"Gabriel Simionato\",\"available_name\":\"Gaby\",\"avatar_url\":\"\",\"type\":\"user\",\"availability_status\":\"offline\",\"thumbnail\":\"\"}}\n"
     ]
    }
   ],
   "source": [
    "import requests\n",
    "url = \"https://chat.vecinos.com.ar/api/v1/accounts/2/conversations/11/messages\"\n",
    "url = \"https://chat.vecinos.com.ar/api/v1/accounts/2/conversations/11/messages\"\n",
    "\n",
    "payload = {\n",
    "    \"content\": \"Hola Vecino\",\n",
    "    \"private\": False,\n",
    "    \"cc_emails\": \"\",\n",
    "    \"bcc_emails\": \"\",\n",
    "    \"to_emails\": \"\"\n",
    "}\n",
    "response = session.request(\"POST\", url, json=payload)\n",
    "\n",
    "print(response.text)"
   ],
   "metadata": {
    "collapsed": false,
    "ExecuteTime": {
     "end_time": "2023-12-22T09:12:08.353418665Z",
     "start_time": "2023-12-22T09:12:07.248386857Z"
    }
   }
  },
  {
   "cell_type": "code",
   "execution_count": null,
   "outputs": [],
   "source": [],
   "metadata": {
    "collapsed": false
   }
  }
 ],
 "metadata": {
  "kernelspec": {
   "display_name": "Python 3",
   "language": "python",
   "name": "python3"
  },
  "language_info": {
   "codemirror_mode": {
    "name": "ipython",
    "version": 2
   },
   "file_extension": ".py",
   "mimetype": "text/x-python",
   "name": "python",
   "nbconvert_exporter": "python",
   "pygments_lexer": "ipython2",
   "version": "2.7.6"
  }
 },
 "nbformat": 4,
 "nbformat_minor": 0
}
